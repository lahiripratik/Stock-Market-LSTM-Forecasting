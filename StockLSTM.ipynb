{
  "nbformat": 4,
  "nbformat_minor": 0,
  "metadata": {
    "colab": {
      "provenance": [],
      "authorship_tag": "ABX9TyMNVVh4n76lon/71bP7B7km"
    },
    "kernelspec": {
      "name": "python3",
      "display_name": "Python 3"
    },
    "language_info": {
      "name": "python"
    }
  },
  "cells": [
    {
      "cell_type": "code",
      "source": [
        "import pandas_datareader as pd"
      ],
      "metadata": {
        "id": "l_H3dsIiGT1m"
      },
      "execution_count": null,
      "outputs": []
    },
    {
      "cell_type": "code",
      "source": [
        "import datetime as dt"
      ],
      "metadata": {
        "id": "bgTTsIRGI66J"
      },
      "execution_count": null,
      "outputs": []
    },
    {
      "cell_type": "code",
      "source": [
        "import yfinance as yf\n",
        "data = yf.download('ITC.NS', start='2018-06-01', end='2023-06-01')"
      ],
      "metadata": {
        "colab": {
          "base_uri": "https://localhost:8080/"
        },
        "id": "uY2nj0reJewD",
        "outputId": "da997aa9-f598-49f4-b6af-37871e15b679"
      },
      "execution_count": null,
      "outputs": [
        {
          "output_type": "stream",
          "name": "stdout",
          "text": [
            "\r[*********************100%***********************]  1 of 1 completed\n"
          ]
        }
      ]
    },
    {
      "cell_type": "code",
      "source": [
        "data.tail()"
      ],
      "metadata": {
        "colab": {
          "base_uri": "https://localhost:8080/",
          "height": 238
        },
        "id": "a3PD5gRrJ3Yf",
        "outputId": "1c778143-97fb-457e-a7d3-94bbad068dbe"
      },
      "execution_count": null,
      "outputs": [
        {
          "output_type": "execute_result",
          "data": {
            "text/plain": [
              "                  Open        High         Low       Close   Adj Close  \\\n",
              "Date                                                                     \n",
              "2023-05-25  436.950012  442.450012  434.799988  441.149994  438.448669   \n",
              "2023-05-26  443.399994  444.750000  439.500000  443.600006  440.883667   \n",
              "2023-05-29  445.000000  451.799988  444.100006  449.100006  446.350006   \n",
              "2023-05-30  441.000000  451.450012  441.000000  449.899994  449.899994   \n",
              "2023-05-31  449.299988  452.000000  442.450012  445.500000  445.500000   \n",
              "\n",
              "              Volume  \n",
              "Date                  \n",
              "2023-05-25  18204464  \n",
              "2023-05-26  12995706  \n",
              "2023-05-29  19826254  \n",
              "2023-05-30  18900002  \n",
              "2023-05-31  14272292  "
            ],
            "text/html": [
              "\n",
              "\n",
              "  <div id=\"df-ad21c59e-c7e1-4f49-a9c3-7f5e8e8000f5\">\n",
              "    <div class=\"colab-df-container\">\n",
              "      <div>\n",
              "<style scoped>\n",
              "    .dataframe tbody tr th:only-of-type {\n",
              "        vertical-align: middle;\n",
              "    }\n",
              "\n",
              "    .dataframe tbody tr th {\n",
              "        vertical-align: top;\n",
              "    }\n",
              "\n",
              "    .dataframe thead th {\n",
              "        text-align: right;\n",
              "    }\n",
              "</style>\n",
              "<table border=\"1\" class=\"dataframe\">\n",
              "  <thead>\n",
              "    <tr style=\"text-align: right;\">\n",
              "      <th></th>\n",
              "      <th>Open</th>\n",
              "      <th>High</th>\n",
              "      <th>Low</th>\n",
              "      <th>Close</th>\n",
              "      <th>Adj Close</th>\n",
              "      <th>Volume</th>\n",
              "    </tr>\n",
              "    <tr>\n",
              "      <th>Date</th>\n",
              "      <th></th>\n",
              "      <th></th>\n",
              "      <th></th>\n",
              "      <th></th>\n",
              "      <th></th>\n",
              "      <th></th>\n",
              "    </tr>\n",
              "  </thead>\n",
              "  <tbody>\n",
              "    <tr>\n",
              "      <th>2023-05-25</th>\n",
              "      <td>436.950012</td>\n",
              "      <td>442.450012</td>\n",
              "      <td>434.799988</td>\n",
              "      <td>441.149994</td>\n",
              "      <td>438.448669</td>\n",
              "      <td>18204464</td>\n",
              "    </tr>\n",
              "    <tr>\n",
              "      <th>2023-05-26</th>\n",
              "      <td>443.399994</td>\n",
              "      <td>444.750000</td>\n",
              "      <td>439.500000</td>\n",
              "      <td>443.600006</td>\n",
              "      <td>440.883667</td>\n",
              "      <td>12995706</td>\n",
              "    </tr>\n",
              "    <tr>\n",
              "      <th>2023-05-29</th>\n",
              "      <td>445.000000</td>\n",
              "      <td>451.799988</td>\n",
              "      <td>444.100006</td>\n",
              "      <td>449.100006</td>\n",
              "      <td>446.350006</td>\n",
              "      <td>19826254</td>\n",
              "    </tr>\n",
              "    <tr>\n",
              "      <th>2023-05-30</th>\n",
              "      <td>441.000000</td>\n",
              "      <td>451.450012</td>\n",
              "      <td>441.000000</td>\n",
              "      <td>449.899994</td>\n",
              "      <td>449.899994</td>\n",
              "      <td>18900002</td>\n",
              "    </tr>\n",
              "    <tr>\n",
              "      <th>2023-05-31</th>\n",
              "      <td>449.299988</td>\n",
              "      <td>452.000000</td>\n",
              "      <td>442.450012</td>\n",
              "      <td>445.500000</td>\n",
              "      <td>445.500000</td>\n",
              "      <td>14272292</td>\n",
              "    </tr>\n",
              "  </tbody>\n",
              "</table>\n",
              "</div>\n",
              "      <button class=\"colab-df-convert\" onclick=\"convertToInteractive('df-ad21c59e-c7e1-4f49-a9c3-7f5e8e8000f5')\"\n",
              "              title=\"Convert this dataframe to an interactive table.\"\n",
              "              style=\"display:none;\">\n",
              "\n",
              "  <svg xmlns=\"http://www.w3.org/2000/svg\" height=\"24px\"viewBox=\"0 0 24 24\"\n",
              "       width=\"24px\">\n",
              "    <path d=\"M0 0h24v24H0V0z\" fill=\"none\"/>\n",
              "    <path d=\"M18.56 5.44l.94 2.06.94-2.06 2.06-.94-2.06-.94-.94-2.06-.94 2.06-2.06.94zm-11 1L8.5 8.5l.94-2.06 2.06-.94-2.06-.94L8.5 2.5l-.94 2.06-2.06.94zm10 10l.94 2.06.94-2.06 2.06-.94-2.06-.94-.94-2.06-.94 2.06-2.06.94z\"/><path d=\"M17.41 7.96l-1.37-1.37c-.4-.4-.92-.59-1.43-.59-.52 0-1.04.2-1.43.59L10.3 9.45l-7.72 7.72c-.78.78-.78 2.05 0 2.83L4 21.41c.39.39.9.59 1.41.59.51 0 1.02-.2 1.41-.59l7.78-7.78 2.81-2.81c.8-.78.8-2.07 0-2.86zM5.41 20L4 18.59l7.72-7.72 1.47 1.35L5.41 20z\"/>\n",
              "  </svg>\n",
              "      </button>\n",
              "\n",
              "\n",
              "\n",
              "    <div id=\"df-5ca2d53a-924a-41d3-af20-21eb659ce206\">\n",
              "      <button class=\"colab-df-quickchart\" onclick=\"quickchart('df-5ca2d53a-924a-41d3-af20-21eb659ce206')\"\n",
              "              title=\"Suggest charts.\"\n",
              "              style=\"display:none;\">\n",
              "\n",
              "<svg xmlns=\"http://www.w3.org/2000/svg\" height=\"24px\"viewBox=\"0 0 24 24\"\n",
              "     width=\"24px\">\n",
              "    <g>\n",
              "        <path d=\"M19 3H5c-1.1 0-2 .9-2 2v14c0 1.1.9 2 2 2h14c1.1 0 2-.9 2-2V5c0-1.1-.9-2-2-2zM9 17H7v-7h2v7zm4 0h-2V7h2v10zm4 0h-2v-4h2v4z\"/>\n",
              "    </g>\n",
              "</svg>\n",
              "      </button>\n",
              "    </div>\n",
              "\n",
              "<style>\n",
              "  .colab-df-quickchart {\n",
              "    background-color: #E8F0FE;\n",
              "    border: none;\n",
              "    border-radius: 50%;\n",
              "    cursor: pointer;\n",
              "    display: none;\n",
              "    fill: #1967D2;\n",
              "    height: 32px;\n",
              "    padding: 0 0 0 0;\n",
              "    width: 32px;\n",
              "  }\n",
              "\n",
              "  .colab-df-quickchart:hover {\n",
              "    background-color: #E2EBFA;\n",
              "    box-shadow: 0px 1px 2px rgba(60, 64, 67, 0.3), 0px 1px 3px 1px rgba(60, 64, 67, 0.15);\n",
              "    fill: #174EA6;\n",
              "  }\n",
              "\n",
              "  [theme=dark] .colab-df-quickchart {\n",
              "    background-color: #3B4455;\n",
              "    fill: #D2E3FC;\n",
              "  }\n",
              "\n",
              "  [theme=dark] .colab-df-quickchart:hover {\n",
              "    background-color: #434B5C;\n",
              "    box-shadow: 0px 1px 3px 1px rgba(0, 0, 0, 0.15);\n",
              "    filter: drop-shadow(0px 1px 2px rgba(0, 0, 0, 0.3));\n",
              "    fill: #FFFFFF;\n",
              "  }\n",
              "</style>\n",
              "\n",
              "    <script>\n",
              "      async function quickchart(key) {\n",
              "        const containerElement = document.querySelector('#' + key);\n",
              "        const charts = await google.colab.kernel.invokeFunction(\n",
              "            'suggestCharts', [key], {});\n",
              "      }\n",
              "    </script>\n",
              "\n",
              "      <script>\n",
              "\n",
              "function displayQuickchartButton(domScope) {\n",
              "  let quickchartButtonEl =\n",
              "    domScope.querySelector('#df-5ca2d53a-924a-41d3-af20-21eb659ce206 button.colab-df-quickchart');\n",
              "  quickchartButtonEl.style.display =\n",
              "    google.colab.kernel.accessAllowed ? 'block' : 'none';\n",
              "}\n",
              "\n",
              "        displayQuickchartButton(document);\n",
              "      </script>\n",
              "      <style>\n",
              "    .colab-df-container {\n",
              "      display:flex;\n",
              "      flex-wrap:wrap;\n",
              "      gap: 12px;\n",
              "    }\n",
              "\n",
              "    .colab-df-convert {\n",
              "      background-color: #E8F0FE;\n",
              "      border: none;\n",
              "      border-radius: 50%;\n",
              "      cursor: pointer;\n",
              "      display: none;\n",
              "      fill: #1967D2;\n",
              "      height: 32px;\n",
              "      padding: 0 0 0 0;\n",
              "      width: 32px;\n",
              "    }\n",
              "\n",
              "    .colab-df-convert:hover {\n",
              "      background-color: #E2EBFA;\n",
              "      box-shadow: 0px 1px 2px rgba(60, 64, 67, 0.3), 0px 1px 3px 1px rgba(60, 64, 67, 0.15);\n",
              "      fill: #174EA6;\n",
              "    }\n",
              "\n",
              "    [theme=dark] .colab-df-convert {\n",
              "      background-color: #3B4455;\n",
              "      fill: #D2E3FC;\n",
              "    }\n",
              "\n",
              "    [theme=dark] .colab-df-convert:hover {\n",
              "      background-color: #434B5C;\n",
              "      box-shadow: 0px 1px 3px 1px rgba(0, 0, 0, 0.15);\n",
              "      filter: drop-shadow(0px 1px 2px rgba(0, 0, 0, 0.3));\n",
              "      fill: #FFFFFF;\n",
              "    }\n",
              "  </style>\n",
              "\n",
              "      <script>\n",
              "        const buttonEl =\n",
              "          document.querySelector('#df-ad21c59e-c7e1-4f49-a9c3-7f5e8e8000f5 button.colab-df-convert');\n",
              "        buttonEl.style.display =\n",
              "          google.colab.kernel.accessAllowed ? 'block' : 'none';\n",
              "\n",
              "        async function convertToInteractive(key) {\n",
              "          const element = document.querySelector('#df-ad21c59e-c7e1-4f49-a9c3-7f5e8e8000f5');\n",
              "          const dataTable =\n",
              "            await google.colab.kernel.invokeFunction('convertToInteractive',\n",
              "                                                     [key], {});\n",
              "          if (!dataTable) return;\n",
              "\n",
              "          const docLinkHtml = 'Like what you see? Visit the ' +\n",
              "            '<a target=\"_blank\" href=https://colab.research.google.com/notebooks/data_table.ipynb>data table notebook</a>'\n",
              "            + ' to learn more about interactive tables.';\n",
              "          element.innerHTML = '';\n",
              "          dataTable['output_type'] = 'display_data';\n",
              "          await google.colab.output.renderOutput(dataTable, element);\n",
              "          const docLink = document.createElement('div');\n",
              "          docLink.innerHTML = docLinkHtml;\n",
              "          element.appendChild(docLink);\n",
              "        }\n",
              "      </script>\n",
              "    </div>\n",
              "  </div>\n"
            ]
          },
          "metadata": {},
          "execution_count": 96
        }
      ]
    },
    {
      "cell_type": "code",
      "source": [
        "data1 = data.reset_index()['Close']"
      ],
      "metadata": {
        "id": "zejat6EWJ8bu"
      },
      "execution_count": null,
      "outputs": []
    },
    {
      "cell_type": "code",
      "source": [
        "data1.shape"
      ],
      "metadata": {
        "colab": {
          "base_uri": "https://localhost:8080/"
        },
        "id": "vr6SSp0mKiwx",
        "outputId": "f93bcb1f-29ee-4792-9e48-e67b82210d3e"
      },
      "execution_count": null,
      "outputs": [
        {
          "output_type": "execute_result",
          "data": {
            "text/plain": [
              "(1234,)"
            ]
          },
          "metadata": {},
          "execution_count": 98
        }
      ]
    },
    {
      "cell_type": "code",
      "source": [
        "import matplotlib.pyplot as plt"
      ],
      "metadata": {
        "id": "70DSdOZfLyVQ"
      },
      "execution_count": null,
      "outputs": []
    },
    {
      "cell_type": "code",
      "source": [
        "plt.plot(data1)"
      ],
      "metadata": {
        "colab": {
          "base_uri": "https://localhost:8080/",
          "height": 448
        },
        "id": "IZ1Vw34IMbCV",
        "outputId": "f80744c9-cf73-4cd2-8409-e098c67255dd"
      },
      "execution_count": null,
      "outputs": [
        {
          "output_type": "execute_result",
          "data": {
            "text/plain": [
              "[<matplotlib.lines.Line2D at 0x7929a685ec80>]"
            ]
          },
          "metadata": {},
          "execution_count": 100
        },
        {
          "output_type": "display_data",
          "data": {
            "text/plain": [
              "<Figure size 640x480 with 1 Axes>"
            ],
            "image/png": "[encoded data removed]"
          },
          "metadata": {}
        }
      ]
    },
    {
      "cell_type": "code",
      "source": [
        "import numpy as np"
      ],
      "metadata": {
        "id": "Vh8AhCr4Mc6J"
      },
      "execution_count": null,
      "outputs": []
    },
    {
      "cell_type": "code",
      "source": [
        "from sklearn.preprocessing import MinMaxScaler\n",
        "scaler = MinMaxScaler(feature_range=(0,1))\n",
        "data1 = scaler.fit_transform(np.array(data1).reshape(-1,1))"
      ],
      "metadata": {
        "id": "VfWm_uT3M1T4"
      },
      "execution_count": null,
      "outputs": []
    },
    {
      "cell_type": "code",
      "source": [
        "data1"
      ],
      "metadata": {
        "colab": {
          "base_uri": "https://localhost:8080/"
        },
        "id": "HGE0DmBvNHhq",
        "outputId": "2f7a87b9-f17d-4a73-efe7-6c073096d06d"
      },
      "execution_count": null,
      "outputs": [
        {
          "output_type": "execute_result",
          "data": {
            "text/plain": [
              "array([[0.40541885],\n",
              "       [0.40194943],\n",
              "       [0.39732365],\n",
              "       ...,\n",
              "       [0.99735672],\n",
              "       [1.        ],\n",
              "       [0.98546177]])"
            ]
          },
          "metadata": {},
          "execution_count": 103
        }
      ]
    },
    {
      "cell_type": "code",
      "source": [
        "###DATA COLLECTION DONE"
      ],
      "metadata": {
        "id": "Xi2J1t9ENJif"
      },
      "execution_count": null,
      "outputs": []
    },
    {
      "cell_type": "code",
      "source": [
        "training_size = int(len(data1)*0.65)\n",
        "test_size = len(data1) - training_size\n",
        "print(training_size)\n",
        "print(test_size)"
      ],
      "metadata": {
        "colab": {
          "base_uri": "https://localhost:8080/"
        },
        "id": "UtwCCHYqPMlN",
        "outputId": "ed6ee588-5f50-492e-d382-757702b3af81"
      },
      "execution_count": null,
      "outputs": [
        {
          "output_type": "stream",
          "name": "stdout",
          "text": [
            "802\n",
            "432\n"
          ]
        }
      ]
    },
    {
      "cell_type": "code",
      "source": [
        "train_data,test_data = data1[0:training_size, :1], data1[training_size:len(data1),:1]"
      ],
      "metadata": {
        "id": "SKMaRNi8QEyD"
      },
      "execution_count": null,
      "outputs": []
    },
    {
      "cell_type": "code",
      "source": [
        "len(train_data),len(test_data)"
      ],
      "metadata": {
        "colab": {
          "base_uri": "https://localhost:8080/"
        },
        "id": "nb-cIp6qQcWu",
        "outputId": "3486d57a-d6bd-4798-b9b3-7a585ee83668"
      },
      "execution_count": null,
      "outputs": [
        {
          "output_type": "execute_result",
          "data": {
            "text/plain": [
              "(802, 432)"
            ]
          },
          "metadata": {},
          "execution_count": 107
        }
      ]
    },
    {
      "cell_type": "code",
      "source": [
        "def create_dataset(dataset, time_step =  1):\n",
        "  dataX, dataY = [],[]\n",
        "  for i in range(len(dataset)-time_step-1):\n",
        "    a = dataset[i:(i+time_step),0]\n",
        "    dataX.append(a)\n",
        "    dataY.append(dataset[i+time_step,0])\n",
        "  return np.array(dataX),np.array(dataY)"
      ],
      "metadata": {
        "id": "9QXUWoW_S7f0"
      },
      "execution_count": null,
      "outputs": []
    },
    {
      "cell_type": "code",
      "source": [
        "time_step = 100\n",
        "X_train, Y_train = create_dataset(train_data,time_step)\n",
        "X_test, Y_test = create_dataset(test_data,time_step)"
      ],
      "metadata": {
        "id": "G5bICNYCQirI"
      },
      "execution_count": null,
      "outputs": []
    },
    {
      "cell_type": "code",
      "source": [
        "print(X_train)"
      ],
      "metadata": {
        "colab": {
          "base_uri": "https://localhost:8080/"
        },
        "id": "9eLuVwdBTe92",
        "outputId": "ab722c92-a690-43ae-eb6b-c8cbdad997ff"
      },
      "execution_count": null,
      "outputs": [
        {
          "output_type": "stream",
          "name": "stdout",
          "text": [
            "[[0.40541885 0.40194943 0.39732365 ... 0.46423262 0.46357175 0.4415992 ]\n",
            " [0.40194943 0.39732365 0.40690565 ... 0.46357175 0.4415992  0.45019   ]\n",
            " [0.39732365 0.40690565 0.40905333 ... 0.4415992  0.45019    0.43515617]\n",
            " ...\n",
            " [0.24054189 0.21576079 0.21609118 ... 0.19329259 0.19544026 0.18949284]\n",
            " [0.21576079 0.21609118 0.21989098 ... 0.19544026 0.18949284 0.19378819]\n",
            " [0.21609118 0.21989098 0.21807369 ... 0.18949284 0.19378819 0.20072692]]\n"
          ]
        }
      ]
    },
    {
      "cell_type": "code",
      "source": [
        "print(X_test.shape),print(Y_test.shape)"
      ],
      "metadata": {
        "colab": {
          "base_uri": "https://localhost:8080/"
        },
        "id": "jI_DSNgoTlKs",
        "outputId": "f4d3a112-ac02-4b0f-ea67-82c190254663"
      },
      "execution_count": null,
      "outputs": [
        {
          "output_type": "stream",
          "name": "stdout",
          "text": [
            "(331, 100)\n",
            "(331,)\n"
          ]
        },
        {
          "output_type": "execute_result",
          "data": {
            "text/plain": [
              "(None, None)"
            ]
          },
          "metadata": {},
          "execution_count": 111
        }
      ]
    },
    {
      "cell_type": "code",
      "source": [
        "###DATA PREPROCESSING DONE, NOW WE IMPLEMENT LSTM"
      ],
      "metadata": {
        "id": "_5tX5tLLUC1l"
      },
      "execution_count": null,
      "outputs": []
    },
    {
      "cell_type": "code",
      "source": [
        "X_train = X_train.reshape(X_train.shape[0], X_train.shape[1], 1)\n",
        "X_test = X_test.reshape(X_test.shape[0], X_test.shape[1], 1)"
      ],
      "metadata": {
        "id": "0uZDZf9aULfO"
      },
      "execution_count": null,
      "outputs": []
    },
    {
      "cell_type": "code",
      "source": [
        "from tensorflow.keras.models import Sequential\n",
        "from tensorflow.keras.layers import Dense\n",
        "from tensorflow.keras.layers import LSTM"
      ],
      "metadata": {
        "id": "M7M1AIX9U5rA"
      },
      "execution_count": null,
      "outputs": []
    },
    {
      "cell_type": "code",
      "source": [
        "model = Sequential()\n",
        "model.add(LSTM(50,return_sequences=True,input_shape=(100,1))) #this is first line of line 57\n",
        "model.add(LSTM(50,return_sequences=True))\n",
        "model.add(LSTM(50))\n",
        "model.add(Dense(1))\n",
        "model.compile(loss='mean_squared_error',optimizer = 'adam')"
      ],
      "metadata": {
        "id": "DxwNlwcJVJSY"
      },
      "execution_count": null,
      "outputs": []
    },
    {
      "cell_type": "code",
      "source": [
        "model.summary()"
      ],
      "metadata": {
        "colab": {
          "base_uri": "https://localhost:8080/"
        },
        "id": "M7RJhtBdV3tt",
        "outputId": "82639bea-ec0a-4e61-8e44-ad053bdbbdb7"
      },
      "execution_count": null,
      "outputs": [
        {
          "output_type": "stream",
          "name": "stdout",
          "text": [
            "Model: \"sequential_1\"\n",
            "_________________________________________________________________\n",
            " Layer (type)                Output Shape              Param #   \n",
            "=================================================================\n",
            " lstm_3 (LSTM)               (None, 100, 50)           10400     \n",
            "                                                                 \n",
            " lstm_4 (LSTM)               (None, 100, 50)           20200     \n",
            "                                                                 \n",
            " lstm_5 (LSTM)               (None, 50)                20200     \n",
            "                                                                 \n",
            " dense_1 (Dense)             (None, 1)                 51        \n",
            "                                                                 \n",
            "=================================================================\n",
            "Total params: 50,851\n",
            "Trainable params: 50,851\n",
            "Non-trainable params: 0\n",
            "_________________________________________________________________\n"
          ]
        }
      ]
    },
    {
      "cell_type": "code",
      "source": [
        "model.fit(X_train,Y_train,validation_data=(X_test, Y_test), epochs = 100, batch_size = 64, verbose = 1)"
      ],
      "metadata": {
        "colab": {
          "base_uri": "https://localhost:8080/"
        },
        "id": "MtcNcK7OV6sa",
        "outputId": "8ea3107a-b5e1-4b03-f28f-8112b94b4e0b"
      },
      "execution_count": null,
      "outputs": [
        {
          "output_type": "stream",
          "name": "stdout",
          "text": [
            "Epoch 1/100\n",
            "11/11 [==============================] - 10s 348ms/step - loss: 0.0206 - val_loss: 0.0495\n",
            "Epoch 2/100\n",
            "11/11 [==============================] - 2s 225ms/step - loss: 0.0051 - val_loss: 0.0054\n",
            "Epoch 3/100\n",
            "11/11 [==============================] - 3s 271ms/step - loss: 0.0031 - val_loss: 0.0182\n",
            "Epoch 4/100\n",
            "11/11 [==============================] - 3s 279ms/step - loss: 0.0016 - val_loss: 0.0064\n",
            "Epoch 5/100\n",
            "11/11 [==============================] - 2s 223ms/step - loss: 0.0013 - val_loss: 0.0019\n",
            "Epoch 6/100\n",
            "11/11 [==============================] - 2s 223ms/step - loss: 0.0012 - val_loss: 0.0023\n",
            "Epoch 7/100\n",
            "11/11 [==============================] - 2s 224ms/step - loss: 0.0011 - val_loss: 0.0029\n",
            "Epoch 8/100\n",
            "11/11 [==============================] - 3s 290ms/step - loss: 0.0011 - val_loss: 0.0028\n",
            "Epoch 9/100\n",
            "11/11 [==============================] - 3s 257ms/step - loss: 0.0011 - val_loss: 0.0027\n",
            "Epoch 10/100\n",
            "11/11 [==============================] - 2s 224ms/step - loss: 0.0010 - val_loss: 0.0017\n",
            "Epoch 11/100\n",
            "11/11 [==============================] - 2s 225ms/step - loss: 0.0010 - val_loss: 0.0015\n",
            "Epoch 12/100\n",
            "11/11 [==============================] - 2s 224ms/step - loss: 0.0010 - val_loss: 0.0013\n",
            "Epoch 13/100\n",
            "11/11 [==============================] - 3s 321ms/step - loss: 0.0010 - val_loss: 0.0012\n",
            "Epoch 14/100\n",
            "11/11 [==============================] - 3s 261ms/step - loss: 0.0010 - val_loss: 0.0014\n",
            "Epoch 15/100\n",
            "11/11 [==============================] - 2s 222ms/step - loss: 9.4757e-04 - val_loss: 0.0020\n",
            "Epoch 16/100\n",
            "11/11 [==============================] - 2s 223ms/step - loss: 9.7199e-04 - val_loss: 0.0028\n",
            "Epoch 17/100\n",
            "11/11 [==============================] - 2s 228ms/step - loss: 9.4879e-04 - val_loss: 0.0014\n",
            "Epoch 18/100\n",
            "11/11 [==============================] - 4s 347ms/step - loss: 8.8071e-04 - val_loss: 0.0018\n",
            "Epoch 19/100\n",
            "11/11 [==============================] - 2s 225ms/step - loss: 8.9325e-04 - val_loss: 0.0013\n",
            "Epoch 20/100\n",
            "11/11 [==============================] - 2s 225ms/step - loss: 8.7757e-04 - val_loss: 0.0013\n",
            "Epoch 21/100\n",
            "11/11 [==============================] - 2s 225ms/step - loss: 8.5694e-04 - val_loss: 0.0012\n",
            "Epoch 22/100\n",
            "11/11 [==============================] - 3s 238ms/step - loss: 8.2510e-04 - val_loss: 0.0012\n",
            "Epoch 23/100\n",
            "11/11 [==============================] - 3s 318ms/step - loss: 8.4561e-04 - val_loss: 0.0016\n",
            "Epoch 24/100\n",
            "11/11 [==============================] - 2s 226ms/step - loss: 8.3797e-04 - val_loss: 0.0015\n",
            "Epoch 25/100\n",
            "11/11 [==============================] - 2s 223ms/step - loss: 8.2144e-04 - val_loss: 0.0019\n",
            "Epoch 26/100\n",
            "11/11 [==============================] - 2s 225ms/step - loss: 8.2876e-04 - val_loss: 0.0013\n",
            "Epoch 27/100\n",
            "11/11 [==============================] - 3s 278ms/step - loss: 8.0557e-04 - val_loss: 0.0013\n",
            "Epoch 28/100\n",
            "11/11 [==============================] - 3s 280ms/step - loss: 7.8994e-04 - val_loss: 0.0014\n",
            "Epoch 29/100\n",
            "11/11 [==============================] - 2s 225ms/step - loss: 7.7167e-04 - val_loss: 0.0015\n",
            "Epoch 30/100\n",
            "11/11 [==============================] - 2s 224ms/step - loss: 7.5835e-04 - val_loss: 0.0013\n",
            "Epoch 31/100\n",
            "11/11 [==============================] - 2s 225ms/step - loss: 7.5398e-04 - val_loss: 0.0013\n",
            "Epoch 32/100\n",
            "11/11 [==============================] - 3s 304ms/step - loss: 7.2539e-04 - val_loss: 0.0020\n",
            "Epoch 33/100\n",
            "11/11 [==============================] - 3s 252ms/step - loss: 7.1691e-04 - val_loss: 0.0015\n",
            "Epoch 34/100\n",
            "11/11 [==============================] - 2s 226ms/step - loss: 7.0666e-04 - val_loss: 0.0014\n",
            "Epoch 35/100\n",
            "11/11 [==============================] - 3s 253ms/step - loss: 6.9157e-04 - val_loss: 0.0017\n",
            "Epoch 36/100\n",
            "11/11 [==============================] - 2s 224ms/step - loss: 6.7844e-04 - val_loss: 0.0015\n",
            "Epoch 37/100\n",
            "11/11 [==============================] - 4s 344ms/step - loss: 6.6858e-04 - val_loss: 0.0013\n",
            "Epoch 38/100\n",
            "11/11 [==============================] - 2s 223ms/step - loss: 6.6653e-04 - val_loss: 0.0019\n",
            "Epoch 39/100\n",
            "11/11 [==============================] - 2s 230ms/step - loss: 6.5763e-04 - val_loss: 0.0012\n",
            "Epoch 40/100\n",
            "11/11 [==============================] - 2s 225ms/step - loss: 6.5471e-04 - val_loss: 0.0013\n",
            "Epoch 41/100\n",
            "11/11 [==============================] - 3s 255ms/step - loss: 7.1938e-04 - val_loss: 0.0010\n",
            "Epoch 42/100\n",
            "11/11 [==============================] - 3s 313ms/step - loss: 6.4980e-04 - val_loss: 0.0012\n",
            "Epoch 43/100\n",
            "11/11 [==============================] - 2s 225ms/step - loss: 6.1558e-04 - val_loss: 0.0014\n",
            "Epoch 44/100\n",
            "11/11 [==============================] - 2s 226ms/step - loss: 6.2117e-04 - val_loss: 9.6562e-04\n",
            "Epoch 45/100\n",
            "11/11 [==============================] - 2s 224ms/step - loss: 6.6797e-04 - val_loss: 9.9286e-04\n",
            "Epoch 46/100\n",
            "11/11 [==============================] - 3s 285ms/step - loss: 5.9617e-04 - val_loss: 0.0011\n",
            "Epoch 47/100\n",
            "11/11 [==============================] - 3s 270ms/step - loss: 5.7419e-04 - val_loss: 0.0013\n",
            "Epoch 48/100\n",
            "11/11 [==============================] - 2s 223ms/step - loss: 5.6823e-04 - val_loss: 9.1761e-04\n",
            "Epoch 49/100\n",
            "11/11 [==============================] - 2s 223ms/step - loss: 5.6546e-04 - val_loss: 0.0013\n",
            "Epoch 50/100\n",
            "11/11 [==============================] - 2s 227ms/step - loss: 5.5855e-04 - val_loss: 8.7014e-04\n",
            "Epoch 51/100\n",
            "11/11 [==============================] - 3s 321ms/step - loss: 5.4053e-04 - val_loss: 8.9915e-04\n",
            "Epoch 52/100\n",
            "11/11 [==============================] - 3s 236ms/step - loss: 5.3217e-04 - val_loss: 0.0010\n",
            "Epoch 53/100\n",
            "11/11 [==============================] - 2s 227ms/step - loss: 5.6153e-04 - val_loss: 7.6902e-04\n",
            "Epoch 54/100\n",
            "11/11 [==============================] - 2s 225ms/step - loss: 5.4158e-04 - val_loss: 7.9668e-04\n",
            "Epoch 55/100\n",
            "11/11 [==============================] - 2s 228ms/step - loss: 5.7290e-04 - val_loss: 0.0013\n",
            "Epoch 56/100\n",
            "11/11 [==============================] - 4s 347ms/step - loss: 5.4671e-04 - val_loss: 8.0070e-04\n",
            "Epoch 57/100\n",
            "11/11 [==============================] - 2s 230ms/step - loss: 4.9884e-04 - val_loss: 7.2224e-04\n",
            "Epoch 58/100\n",
            "11/11 [==============================] - 2s 227ms/step - loss: 4.9350e-04 - val_loss: 6.6716e-04\n",
            "Epoch 59/100\n",
            "11/11 [==============================] - 2s 226ms/step - loss: 5.1716e-04 - val_loss: 7.1798e-04\n",
            "Epoch 60/100\n",
            "11/11 [==============================] - 3s 255ms/step - loss: 4.8364e-04 - val_loss: 8.2292e-04\n",
            "Epoch 61/100\n",
            "11/11 [==============================] - 3s 313ms/step - loss: 4.7578e-04 - val_loss: 8.1431e-04\n",
            "Epoch 62/100\n",
            "11/11 [==============================] - 2s 226ms/step - loss: 4.5893e-04 - val_loss: 0.0011\n",
            "Epoch 63/100\n",
            "11/11 [==============================] - 2s 225ms/step - loss: 4.5863e-04 - val_loss: 7.1246e-04\n",
            "Epoch 64/100\n",
            "11/11 [==============================] - 2s 224ms/step - loss: 4.6082e-04 - val_loss: 8.5040e-04\n",
            "Epoch 65/100\n",
            "11/11 [==============================] - 3s 279ms/step - loss: 4.7101e-04 - val_loss: 0.0014\n",
            "Epoch 66/100\n",
            "11/11 [==============================] - 3s 274ms/step - loss: 5.1063e-04 - val_loss: 8.8034e-04\n",
            "Epoch 67/100\n",
            "11/11 [==============================] - 2s 228ms/step - loss: 4.7052e-04 - val_loss: 6.2839e-04\n",
            "Epoch 68/100\n",
            "11/11 [==============================] - 2s 225ms/step - loss: 4.2350e-04 - val_loss: 7.9934e-04\n",
            "Epoch 69/100\n",
            "11/11 [==============================] - 2s 228ms/step - loss: 4.1656e-04 - val_loss: 6.2068e-04\n",
            "Epoch 70/100\n",
            "11/11 [==============================] - 3s 319ms/step - loss: 4.1074e-04 - val_loss: 6.6159e-04\n",
            "Epoch 71/100\n",
            "11/11 [==============================] - 3s 235ms/step - loss: 4.2032e-04 - val_loss: 0.0010\n",
            "Epoch 72/100\n",
            "11/11 [==============================] - 2s 226ms/step - loss: 4.1340e-04 - val_loss: 7.8522e-04\n",
            "Epoch 73/100\n",
            "11/11 [==============================] - 2s 226ms/step - loss: 4.0185e-04 - val_loss: 5.8783e-04\n",
            "Epoch 74/100\n",
            "11/11 [==============================] - 2s 226ms/step - loss: 3.8372e-04 - val_loss: 8.0775e-04\n",
            "Epoch 75/100\n",
            "11/11 [==============================] - 4s 347ms/step - loss: 3.9457e-04 - val_loss: 5.6428e-04\n",
            "Epoch 76/100\n",
            "11/11 [==============================] - 2s 226ms/step - loss: 3.7211e-04 - val_loss: 7.3906e-04\n",
            "Epoch 77/100\n",
            "11/11 [==============================] - 2s 225ms/step - loss: 3.6474e-04 - val_loss: 5.3913e-04\n",
            "Epoch 78/100\n",
            "11/11 [==============================] - 2s 226ms/step - loss: 3.6956e-04 - val_loss: 0.0011\n",
            "Epoch 79/100\n",
            "11/11 [==============================] - 3s 255ms/step - loss: 4.1020e-04 - val_loss: 5.4843e-04\n",
            "Epoch 80/100\n",
            "11/11 [==============================] - 3s 310ms/step - loss: 3.7986e-04 - val_loss: 6.0336e-04\n",
            "Epoch 81/100\n",
            "11/11 [==============================] - 2s 225ms/step - loss: 3.7951e-04 - val_loss: 5.3501e-04\n",
            "Epoch 82/100\n",
            "11/11 [==============================] - 2s 225ms/step - loss: 3.6308e-04 - val_loss: 5.1238e-04\n",
            "Epoch 83/100\n",
            "11/11 [==============================] - 2s 227ms/step - loss: 3.5392e-04 - val_loss: 5.3259e-04\n",
            "Epoch 84/100\n",
            "11/11 [==============================] - 3s 297ms/step - loss: 3.6087e-04 - val_loss: 5.7315e-04\n",
            "Epoch 85/100\n",
            "11/11 [==============================] - 3s 265ms/step - loss: 3.5854e-04 - val_loss: 5.4363e-04\n",
            "Epoch 86/100\n",
            "11/11 [==============================] - 2s 224ms/step - loss: 3.4734e-04 - val_loss: 5.6328e-04\n",
            "Epoch 87/100\n",
            "11/11 [==============================] - 2s 229ms/step - loss: 3.6928e-04 - val_loss: 5.3034e-04\n",
            "Epoch 88/100\n",
            "11/11 [==============================] - 2s 226ms/step - loss: 3.4522e-04 - val_loss: 9.4956e-04\n",
            "Epoch 89/100\n",
            "11/11 [==============================] - 4s 334ms/step - loss: 3.3719e-04 - val_loss: 4.5887e-04\n",
            "Epoch 90/100\n",
            "11/11 [==============================] - 3s 229ms/step - loss: 3.3768e-04 - val_loss: 5.0395e-04\n",
            "Epoch 91/100\n",
            "11/11 [==============================] - 2s 227ms/step - loss: 3.3832e-04 - val_loss: 4.3029e-04\n",
            "Epoch 92/100\n",
            "11/11 [==============================] - 2s 227ms/step - loss: 3.2008e-04 - val_loss: 4.6109e-04\n",
            "Epoch 93/100\n",
            "11/11 [==============================] - 2s 227ms/step - loss: 3.3090e-04 - val_loss: 4.4057e-04\n",
            "Epoch 94/100\n",
            "11/11 [==============================] - 4s 377ms/step - loss: 3.6997e-04 - val_loss: 4.6418e-04\n",
            "Epoch 95/100\n",
            "11/11 [==============================] - 2s 226ms/step - loss: 3.4640e-04 - val_loss: 4.5349e-04\n",
            "Epoch 96/100\n",
            "11/11 [==============================] - 2s 227ms/step - loss: 3.1158e-04 - val_loss: 4.0173e-04\n",
            "Epoch 97/100\n",
            "11/11 [==============================] - 2s 225ms/step - loss: 3.1763e-04 - val_loss: 4.7094e-04\n",
            "Epoch 98/100\n",
            "11/11 [==============================] - 3s 267ms/step - loss: 3.6252e-04 - val_loss: 8.3665e-04\n",
            "Epoch 99/100\n",
            "11/11 [==============================] - 3s 292ms/step - loss: 3.8085e-04 - val_loss: 5.4026e-04\n",
            "Epoch 100/100\n",
            "11/11 [==============================] - 2s 228ms/step - loss: 3.0569e-04 - val_loss: 3.9250e-04\n"
          ]
        },
        {
          "output_type": "execute_result",
          "data": {
            "text/plain": [
              "<keras.callbacks.History at 0x7929a69d98d0>"
            ]
          },
          "metadata": {},
          "execution_count": 117
        }
      ]
    },
    {
      "cell_type": "code",
      "source": [
        "train_predict = model.predict(X_train)\n",
        "test_predict = model.predict(X_test)"
      ],
      "metadata": {
        "colab": {
          "base_uri": "https://localhost:8080/"
        },
        "id": "fLEjaSi3W8eX",
        "outputId": "175f9df9-6d49-43cd-995a-884be681c2bf"
      },
      "execution_count": null,
      "outputs": [
        {
          "output_type": "stream",
          "name": "stdout",
          "text": [
            "22/22 [==============================] - 2s 42ms/step\n",
            "11/11 [==============================] - 0s 41ms/step\n"
          ]
        }
      ]
    },
    {
      "cell_type": "code",
      "source": [
        "train_predict = scaler.inverse_transform(train_predict)\n",
        "test_predict = scaler.inverse_transform(test_predict)"
      ],
      "metadata": {
        "id": "ttvecorGW9Op"
      },
      "execution_count": null,
      "outputs": []
    },
    {
      "cell_type": "code",
      "source": [
        "import math\n",
        "from sklearn.metrics import mean_squared_error\n",
        "math.sqrt(mean_squared_error(Y_train,train_predict))"
      ],
      "metadata": {
        "colab": {
          "base_uri": "https://localhost:8080/"
        },
        "id": "KKLt51QoXLJT",
        "outputId": "72560f3a-1080-42e1-e761-14bc40692caf"
      },
      "execution_count": null,
      "outputs": [
        {
          "output_type": "execute_result",
          "data": {
            "text/plain": [
              "231.7216668078038"
            ]
          },
          "metadata": {},
          "execution_count": 120
        }
      ]
    },
    {
      "cell_type": "code",
      "source": [
        "math.sqrt(mean_squared_error(Y_test,test_predict))"
      ],
      "metadata": {
        "colab": {
          "base_uri": "https://localhost:8080/"
        },
        "id": "CduliOy8Xnal",
        "outputId": "c9669f39-2be8-4f97-bf1a-556a17432920"
      },
      "execution_count": null,
      "outputs": [
        {
          "output_type": "execute_result",
          "data": {
            "text/plain": [
              "325.68914965118074"
            ]
          },
          "metadata": {},
          "execution_count": 121
        }
      ]
    },
    {
      "cell_type": "code",
      "source": [
        "### Plotting\n",
        "# shift train predictions for plotting\n",
        "look_back=100\n",
        "trainPredictPlot = np.empty_like(data1)\n",
        "trainPredictPlot[:, :] = np.nan\n",
        "trainPredictPlot[look_back:len(train_predict)+look_back, :] = train_predict\n",
        "# shift test predictions for plotting\n",
        "testPredictPlot = np.empty_like(data1)\n",
        "testPredictPlot[:, :] = np.nan\n",
        "testPredictPlot[len(train_predict)+(look_back*2)+1:len(data1)-1, :] = test_predict\n",
        "# plot baseline and predictions\n",
        "plt.plot(scaler.inverse_transform(data1))\n",
        "plt.plot(trainPredictPlot)\n",
        "plt.plot(testPredictPlot)\n",
        "plt.show()\n"
      ],
      "metadata": {
        "colab": {
          "base_uri": "https://localhost:8080/",
          "height": 430
        },
        "id": "q_ztYFPZX6eL",
        "outputId": "5d049700-56ce-408c-b48f-72db9c549305"
      },
      "execution_count": null,
      "outputs": [
        {
          "output_type": "display_data",
          "data": {
            "text/plain": [
              "<Figure size 640x480 with 1 Axes>"
            ],
            "image/png": "[encoded data removed]"
          },
          "metadata": {}
        }
      ]
    },
    {
      "cell_type": "code",
      "source": [
        "##NOW WE PREDICT FUTURE 30 DAYS\n",
        "len(test_data)"
      ],
      "metadata": {
        "colab": {
          "base_uri": "https://localhost:8080/"
        },
        "id": "DdJW_VshZQFd",
        "outputId": "64b2e984-4394-48f7-85f7-78e553a26a8e"
      },
      "execution_count": null,
      "outputs": [
        {
          "output_type": "execute_result",
          "data": {
            "text/plain": [
              "432"
            ]
          },
          "metadata": {},
          "execution_count": 123
        }
      ]
    },
    {
      "cell_type": "code",
      "source": [
        "x_input = test_data[332:].reshape(1,-1)\n",
        "x_input.shape"
      ],
      "metadata": {
        "colab": {
          "base_uri": "https://localhost:8080/"
        },
        "id": "ADLrj1WdaoEH",
        "outputId": "b6c00103-d19c-484e-871e-034f14b3e4a5"
      },
      "execution_count": null,
      "outputs": [
        {
          "output_type": "execute_result",
          "data": {
            "text/plain": [
              "(1, 100)"
            ]
          },
          "metadata": {},
          "execution_count": 124
        }
      ]
    },
    {
      "cell_type": "code",
      "source": [
        "temp_input = list(x_input)\n",
        "temp_input = temp_input[0].tolist()"
      ],
      "metadata": {
        "id": "5kM3UL9za972"
      },
      "execution_count": null,
      "outputs": []
    },
    {
      "cell_type": "code",
      "source": [
        "temp_input"
      ],
      "metadata": {
        "colab": {
          "base_uri": "https://localhost:8080/"
        },
        "id": "CifGeyOEbHWl",
        "outputId": "52987f43-a955-47b9-96cc-556f22cb07c4"
      },
      "execution_count": null,
      "outputs": [
        {
          "output_type": "execute_result",
          "data": {
            "text/plain": [
              "[0.6074674039689489,\n",
              " 0.5939203820419703,\n",
              " 0.6152321690471185,\n",
              " 0.6205187232126697,\n",
              " 0.630431163524914,\n",
              " 0.6150669012078467,\n",
              " 0.6097802462077384,\n",
              " 0.6033372205055139,\n",
              " 0.5997026388907796,\n",
              " 0.6044936920421871,\n",
              " 0.6112671525883979,\n",
              " 0.6191970846712818,\n",
              " 0.6109367177444116,\n",
              " 0.6190319176665673,\n",
              " 0.6294399598275124,\n",
              " 0.633404976286233,\n",
              " 0.6343961799836346,\n",
              " 0.6566991706861842,\n",
              " 0.6527341542274636,\n",
              " 0.6776805228473461,\n",
              " 0.7075830107887935,\n",
              " 0.7644143755794837,\n",
              " 0.7711878361256943,\n",
              " 0.7802742397452516,\n",
              " 0.7467371701890699,\n",
              " 0.7543366674279675,\n",
              " 0.7500413169598179,\n",
              " 0.7404593114915599,\n",
              " 0.7498761499551034,\n",
              " 0.7903519478967675,\n",
              " 0.7763093241210881,\n",
              " 0.7774656948232042,\n",
              " 0.7802742397452516,\n",
              " 0.7824219149793263,\n",
              " 0.7764744911258028,\n",
              " 0.7817611461259111,\n",
              " 0.7941516965162165,\n",
              " 0.7858913295893462,\n",
              " 0.7763093241210881,\n",
              " 0.7581365168819736,\n",
              " 0.7647448104234698,\n",
              " 0.7543366674279675,\n",
              " 0.7853957277406454,\n",
              " 0.795968936906305,\n",
              " 0.8100115606819844,\n",
              " 0.7938212616722302,\n",
              " 0.7954733350576042,\n",
              " 0.7811002764379387,\n",
              " 0.768048957194218,\n",
              " 0.7670576526622592,\n",
              " 0.773831214043027,\n",
              " 0.7543366674279675,\n",
              " 0.7650751444328989,\n",
              " 0.7589625535746607,\n",
              " 0.7616058306574363,\n",
              " 0.7711878361256943,\n",
              " 0.7647448104234698,\n",
              " 0.7697010305795919,\n",
              " 0.7682141241989324,\n",
              " 0.7781265645111768,\n",
              " 0.7806046745892379,\n",
              " 0.7654055792768852,\n",
              " 0.7901866800574959,\n",
              " 0.7933256598235294,\n",
              " 0.7972905754476929,\n",
              " 0.8219065092235891,\n",
              " 0.8138113093014332,\n",
              " 0.8205848706822012,\n",
              " 0.8356186981552822,\n",
              " 0.8301668761504593,\n",
              " 0.8309929128431464,\n",
              " 0.836114300003983,\n",
              " 0.8623823071652532,\n",
              " 0.8638692135459127,\n",
              " 0.8732859511748989,\n",
              " 0.8755988942482456,\n",
              " 0.887989444638551,\n",
              " 0.9195440059653723,\n",
              " 0.9159095251851952,\n",
              " 0.9248306609654808,\n",
              " 0.916405127033896,\n",
              " 0.9301173159655891,\n",
              " 0.9390385525804319,\n",
              " 0.9137617491165633,\n",
              " 0.9188832371119571,\n",
              " 0.9025276702629312,\n",
              " 0.9026929381022029,\n",
              " 0.9269783361995556,\n",
              " 0.9142574517998212,\n",
              " 0.9263175673461403,\n",
              " 0.9002148280241418,\n",
              " 0.9007104298728426,\n",
              " 0.9169007288825968,\n",
              " 0.931438954506977,\n",
              " 0.9458120131266425,\n",
              " 0.9710887157559542,\n",
              " 0.9791839156781099,\n",
              " 0.9973567229172244,\n",
              " 1.0,\n",
              " 0.9854617743756198]"
            ]
          },
          "metadata": {},
          "execution_count": 126
        }
      ]
    },
    {
      "cell_type": "code",
      "source": [
        "from numpy import array\n",
        "\n",
        "lst_output=[]\n",
        "n_steps=100\n",
        "i=0\n",
        "while(i<30):\n",
        "\n",
        "    if(len(temp_input)>100):\n",
        "        #print(temp_input)\n",
        "        x_input=np.array(temp_input[1:])\n",
        "        print(\"{} day input {}\".format(i,x_input))\n",
        "        x_input=x_input.reshape(1,-1)\n",
        "        x_input = x_input.reshape((1, n_steps, 1))\n",
        "        #print(x_input)\n",
        "        yhat = model.predict(x_input, verbose=0)\n",
        "        print(\"{} day output {}\".format(i,yhat))\n",
        "        temp_input.extend(yhat[0].tolist())\n",
        "        temp_input=temp_input[1:]\n",
        "        #print(temp_input)\n",
        "        lst_output.extend(yhat.tolist())\n",
        "        i=i+1\n",
        "    else:\n",
        "        x_input = x_input.reshape((1, n_steps,1)) #reshaping the model for lstm\n",
        "        yhat = model.predict(x_input, verbose=0) #prediction\n",
        "        print(yhat[0])\n",
        "        temp_input.extend(yhat[0].tolist()) #yHat added to list, at 101th position, same done till 130th in loop\n",
        "        print(len(temp_input))\n",
        "        lst_output.extend(yhat.tolist())\n",
        "        i=i+1\n",
        "\n",
        "\n",
        "print(lst_output)"
      ],
      "metadata": {
        "colab": {
          "base_uri": "https://localhost:8080/"
        },
        "id": "x7gv_ZnNbaEr",
        "outputId": "779499b9-5a6b-4b20-d005-8b586fdc46ba"
      },
      "execution_count": null,
      "outputs": [
        {
          "output_type": "stream",
          "name": "stdout",
          "text": [
            "[1.0219877]\n",
            "101\n",
            "1 day input [0.59392038 0.61523217 0.62051872 0.63043116 0.6150669  0.60978025\n",
            " 0.60333722 0.59970264 0.60449369 0.61126715 0.61919708 0.61093672\n",
            " 0.61903192 0.62943996 0.63340498 0.63439618 0.65669917 0.65273415\n",
            " 0.67768052 0.70758301 0.76441438 0.77118784 0.78027424 0.74673717\n",
            " 0.75433667 0.75004132 0.74045931 0.74987615 0.79035195 0.77630932\n",
            " 0.77746569 0.78027424 0.78242191 0.77647449 0.78176115 0.7941517\n",
            " 0.78589133 0.77630932 0.75813652 0.76474481 0.75433667 0.78539573\n",
            " 0.79596894 0.81001156 0.79382126 0.79547334 0.78110028 0.76804896\n",
            " 0.76705765 0.77383121 0.75433667 0.76507514 0.75896255 0.76160583\n",
            " 0.77118784 0.76474481 0.76970103 0.76821412 0.77812656 0.78060467\n",
            " 0.76540558 0.79018668 0.79332566 0.79729058 0.82190651 0.81381131\n",
            " 0.82058487 0.8356187  0.83016688 0.83099291 0.8361143  0.86238231\n",
            " 0.86386921 0.87328595 0.87559889 0.88798944 0.91954401 0.91590953\n",
            " 0.92483066 0.91640513 0.93011732 0.93903855 0.91376175 0.91888324\n",
            " 0.90252767 0.90269294 0.92697834 0.91425745 0.92631757 0.90021483\n",
            " 0.90071043 0.91690073 0.93143895 0.94581201 0.97108872 0.97918392\n",
            " 0.99735672 1.         0.98546177 1.02198768]\n",
            "1 day output [[1.0317891]]\n",
            "2 day input [0.61523217 0.62051872 0.63043116 0.6150669  0.60978025 0.60333722\n",
            " 0.59970264 0.60449369 0.61126715 0.61919708 0.61093672 0.61903192\n",
            " 0.62943996 0.63340498 0.63439618 0.65669917 0.65273415 0.67768052\n",
            " 0.70758301 0.76441438 0.77118784 0.78027424 0.74673717 0.75433667\n",
            " 0.75004132 0.74045931 0.74987615 0.79035195 0.77630932 0.77746569\n",
            " 0.78027424 0.78242191 0.77647449 0.78176115 0.7941517  0.78589133\n",
            " 0.77630932 0.75813652 0.76474481 0.75433667 0.78539573 0.79596894\n",
            " 0.81001156 0.79382126 0.79547334 0.78110028 0.76804896 0.76705765\n",
            " 0.77383121 0.75433667 0.76507514 0.75896255 0.76160583 0.77118784\n",
            " 0.76474481 0.76970103 0.76821412 0.77812656 0.78060467 0.76540558\n",
            " 0.79018668 0.79332566 0.79729058 0.82190651 0.81381131 0.82058487\n",
            " 0.8356187  0.83016688 0.83099291 0.8361143  0.86238231 0.86386921\n",
            " 0.87328595 0.87559889 0.88798944 0.91954401 0.91590953 0.92483066\n",
            " 0.91640513 0.93011732 0.93903855 0.91376175 0.91888324 0.90252767\n",
            " 0.90269294 0.92697834 0.91425745 0.92631757 0.90021483 0.90071043\n",
            " 0.91690073 0.93143895 0.94581201 0.97108872 0.97918392 0.99735672\n",
            " 1.         0.98546177 1.02198768 1.03178906]\n",
            "2 day output [[1.0460912]]\n",
            "3 day input [0.62051872 0.63043116 0.6150669  0.60978025 0.60333722 0.59970264\n",
            " 0.60449369 0.61126715 0.61919708 0.61093672 0.61903192 0.62943996\n",
            " 0.63340498 0.63439618 0.65669917 0.65273415 0.67768052 0.70758301\n",
            " 0.76441438 0.77118784 0.78027424 0.74673717 0.75433667 0.75004132\n",
            " 0.74045931 0.74987615 0.79035195 0.77630932 0.77746569 0.78027424\n",
            " 0.78242191 0.77647449 0.78176115 0.7941517  0.78589133 0.77630932\n",
            " 0.75813652 0.76474481 0.75433667 0.78539573 0.79596894 0.81001156\n",
            " 0.79382126 0.79547334 0.78110028 0.76804896 0.76705765 0.77383121\n",
            " 0.75433667 0.76507514 0.75896255 0.76160583 0.77118784 0.76474481\n",
            " 0.76970103 0.76821412 0.77812656 0.78060467 0.76540558 0.79018668\n",
            " 0.79332566 0.79729058 0.82190651 0.81381131 0.82058487 0.8356187\n",
            " 0.83016688 0.83099291 0.8361143  0.86238231 0.86386921 0.87328595\n",
            " 0.87559889 0.88798944 0.91954401 0.91590953 0.92483066 0.91640513\n",
            " 0.93011732 0.93903855 0.91376175 0.91888324 0.90252767 0.90269294\n",
            " 0.92697834 0.91425745 0.92631757 0.90021483 0.90071043 0.91690073\n",
            " 0.93143895 0.94581201 0.97108872 0.97918392 0.99735672 1.\n",
            " 0.98546177 1.02198768 1.03178906 1.0460912 ]\n",
            "3 day output [[1.0616776]]\n",
            "4 day input [0.63043116 0.6150669  0.60978025 0.60333722 0.59970264 0.60449369\n",
            " 0.61126715 0.61919708 0.61093672 0.61903192 0.62943996 0.63340498\n",
            " 0.63439618 0.65669917 0.65273415 0.67768052 0.70758301 0.76441438\n",
            " 0.77118784 0.78027424 0.74673717 0.75433667 0.75004132 0.74045931\n",
            " 0.74987615 0.79035195 0.77630932 0.77746569 0.78027424 0.78242191\n",
            " 0.77647449 0.78176115 0.7941517  0.78589133 0.77630932 0.75813652\n",
            " 0.76474481 0.75433667 0.78539573 0.79596894 0.81001156 0.79382126\n",
            " 0.79547334 0.78110028 0.76804896 0.76705765 0.77383121 0.75433667\n",
            " 0.76507514 0.75896255 0.76160583 0.77118784 0.76474481 0.76970103\n",
            " 0.76821412 0.77812656 0.78060467 0.76540558 0.79018668 0.79332566\n",
            " 0.79729058 0.82190651 0.81381131 0.82058487 0.8356187  0.83016688\n",
            " 0.83099291 0.8361143  0.86238231 0.86386921 0.87328595 0.87559889\n",
            " 0.88798944 0.91954401 0.91590953 0.92483066 0.91640513 0.93011732\n",
            " 0.93903855 0.91376175 0.91888324 0.90252767 0.90269294 0.92697834\n",
            " 0.91425745 0.92631757 0.90021483 0.90071043 0.91690073 0.93143895\n",
            " 0.94581201 0.97108872 0.97918392 0.99735672 1.         0.98546177\n",
            " 1.02198768 1.03178906 1.0460912  1.06167758]\n",
            "4 day output [[1.0779127]]\n",
            "5 day input [0.6150669  0.60978025 0.60333722 0.59970264 0.60449369 0.61126715\n",
            " 0.61919708 0.61093672 0.61903192 0.62943996 0.63340498 0.63439618\n",
            " 0.65669917 0.65273415 0.67768052 0.70758301 0.76441438 0.77118784\n",
            " 0.78027424 0.74673717 0.75433667 0.75004132 0.74045931 0.74987615\n",
            " 0.79035195 0.77630932 0.77746569 0.78027424 0.78242191 0.77647449\n",
            " 0.78176115 0.7941517  0.78589133 0.77630932 0.75813652 0.76474481\n",
            " 0.75433667 0.78539573 0.79596894 0.81001156 0.79382126 0.79547334\n",
            " 0.78110028 0.76804896 0.76705765 0.77383121 0.75433667 0.76507514\n",
            " 0.75896255 0.76160583 0.77118784 0.76474481 0.76970103 0.76821412\n",
            " 0.77812656 0.78060467 0.76540558 0.79018668 0.79332566 0.79729058\n",
            " 0.82190651 0.81381131 0.82058487 0.8356187  0.83016688 0.83099291\n",
            " 0.8361143  0.86238231 0.86386921 0.87328595 0.87559889 0.88798944\n",
            " 0.91954401 0.91590953 0.92483066 0.91640513 0.93011732 0.93903855\n",
            " 0.91376175 0.91888324 0.90252767 0.90269294 0.92697834 0.91425745\n",
            " 0.92631757 0.90021483 0.90071043 0.91690073 0.93143895 0.94581201\n",
            " 0.97108872 0.97918392 0.99735672 1.         0.98546177 1.02198768\n",
            " 1.03178906 1.0460912  1.06167758 1.07791269]\n",
            "5 day output [[1.0946001]]\n",
            "6 day input [0.60978025 0.60333722 0.59970264 0.60449369 0.61126715 0.61919708\n",
            " 0.61093672 0.61903192 0.62943996 0.63340498 0.63439618 0.65669917\n",
            " 0.65273415 0.67768052 0.70758301 0.76441438 0.77118784 0.78027424\n",
            " 0.74673717 0.75433667 0.75004132 0.74045931 0.74987615 0.79035195\n",
            " 0.77630932 0.77746569 0.78027424 0.78242191 0.77647449 0.78176115\n",
            " 0.7941517  0.78589133 0.77630932 0.75813652 0.76474481 0.75433667\n",
            " 0.78539573 0.79596894 0.81001156 0.79382126 0.79547334 0.78110028\n",
            " 0.76804896 0.76705765 0.77383121 0.75433667 0.76507514 0.75896255\n",
            " 0.76160583 0.77118784 0.76474481 0.76970103 0.76821412 0.77812656\n",
            " 0.78060467 0.76540558 0.79018668 0.79332566 0.79729058 0.82190651\n",
            " 0.81381131 0.82058487 0.8356187  0.83016688 0.83099291 0.8361143\n",
            " 0.86238231 0.86386921 0.87328595 0.87559889 0.88798944 0.91954401\n",
            " 0.91590953 0.92483066 0.91640513 0.93011732 0.93903855 0.91376175\n",
            " 0.91888324 0.90252767 0.90269294 0.92697834 0.91425745 0.92631757\n",
            " 0.90021483 0.90071043 0.91690073 0.93143895 0.94581201 0.97108872\n",
            " 0.97918392 0.99735672 1.         0.98546177 1.02198768 1.03178906\n",
            " 1.0460912  1.06167758 1.07791269 1.09460008]\n",
            "6 day output [[1.1116223]]\n",
            "7 day input [0.60333722 0.59970264 0.60449369 0.61126715 0.61919708 0.61093672\n",
            " 0.61903192 0.62943996 0.63340498 0.63439618 0.65669917 0.65273415\n",
            " 0.67768052 0.70758301 0.76441438 0.77118784 0.78027424 0.74673717\n",
            " 0.75433667 0.75004132 0.74045931 0.74987615 0.79035195 0.77630932\n",
            " 0.77746569 0.78027424 0.78242191 0.77647449 0.78176115 0.7941517\n",
            " 0.78589133 0.77630932 0.75813652 0.76474481 0.75433667 0.78539573\n",
            " 0.79596894 0.81001156 0.79382126 0.79547334 0.78110028 0.76804896\n",
            " 0.76705765 0.77383121 0.75433667 0.76507514 0.75896255 0.76160583\n",
            " 0.77118784 0.76474481 0.76970103 0.76821412 0.77812656 0.78060467\n",
            " 0.76540558 0.79018668 0.79332566 0.79729058 0.82190651 0.81381131\n",
            " 0.82058487 0.8356187  0.83016688 0.83099291 0.8361143  0.86238231\n",
            " 0.86386921 0.87328595 0.87559889 0.88798944 0.91954401 0.91590953\n",
            " 0.92483066 0.91640513 0.93011732 0.93903855 0.91376175 0.91888324\n",
            " 0.90252767 0.90269294 0.92697834 0.91425745 0.92631757 0.90021483\n",
            " 0.90071043 0.91690073 0.93143895 0.94581201 0.97108872 0.97918392\n",
            " 0.99735672 1.         0.98546177 1.02198768 1.03178906 1.0460912\n",
            " 1.06167758 1.07791269 1.09460008 1.11162233]\n",
            "7 day output [[1.1289244]]\n",
            "8 day input [0.59970264 0.60449369 0.61126715 0.61919708 0.61093672 0.61903192\n",
            " 0.62943996 0.63340498 0.63439618 0.65669917 0.65273415 0.67768052\n",
            " 0.70758301 0.76441438 0.77118784 0.78027424 0.74673717 0.75433667\n",
            " 0.75004132 0.74045931 0.74987615 0.79035195 0.77630932 0.77746569\n",
            " 0.78027424 0.78242191 0.77647449 0.78176115 0.7941517  0.78589133\n",
            " 0.77630932 0.75813652 0.76474481 0.75433667 0.78539573 0.79596894\n",
            " 0.81001156 0.79382126 0.79547334 0.78110028 0.76804896 0.76705765\n",
            " 0.77383121 0.75433667 0.76507514 0.75896255 0.76160583 0.77118784\n",
            " 0.76474481 0.76970103 0.76821412 0.77812656 0.78060467 0.76540558\n",
            " 0.79018668 0.79332566 0.79729058 0.82190651 0.81381131 0.82058487\n",
            " 0.8356187  0.83016688 0.83099291 0.8361143  0.86238231 0.86386921\n",
            " 0.87328595 0.87559889 0.88798944 0.91954401 0.91590953 0.92483066\n",
            " 0.91640513 0.93011732 0.93903855 0.91376175 0.91888324 0.90252767\n",
            " 0.90269294 0.92697834 0.91425745 0.92631757 0.90021483 0.90071043\n",
            " 0.91690073 0.93143895 0.94581201 0.97108872 0.97918392 0.99735672\n",
            " 1.         0.98546177 1.02198768 1.03178906 1.0460912  1.06167758\n",
            " 1.07791269 1.09460008 1.11162233 1.12892437]\n",
            "8 day output [[1.146506]]\n",
            "9 day input [0.60449369 0.61126715 0.61919708 0.61093672 0.61903192 0.62943996\n",
            " 0.63340498 0.63439618 0.65669917 0.65273415 0.67768052 0.70758301\n",
            " 0.76441438 0.77118784 0.78027424 0.74673717 0.75433667 0.75004132\n",
            " 0.74045931 0.74987615 0.79035195 0.77630932 0.77746569 0.78027424\n",
            " 0.78242191 0.77647449 0.78176115 0.7941517  0.78589133 0.77630932\n",
            " 0.75813652 0.76474481 0.75433667 0.78539573 0.79596894 0.81001156\n",
            " 0.79382126 0.79547334 0.78110028 0.76804896 0.76705765 0.77383121\n",
            " 0.75433667 0.76507514 0.75896255 0.76160583 0.77118784 0.76474481\n",
            " 0.76970103 0.76821412 0.77812656 0.78060467 0.76540558 0.79018668\n",
            " 0.79332566 0.79729058 0.82190651 0.81381131 0.82058487 0.8356187\n",
            " 0.83016688 0.83099291 0.8361143  0.86238231 0.86386921 0.87328595\n",
            " 0.87559889 0.88798944 0.91954401 0.91590953 0.92483066 0.91640513\n",
            " 0.93011732 0.93903855 0.91376175 0.91888324 0.90252767 0.90269294\n",
            " 0.92697834 0.91425745 0.92631757 0.90021483 0.90071043 0.91690073\n",
            " 0.93143895 0.94581201 0.97108872 0.97918392 0.99735672 1.\n",
            " 0.98546177 1.02198768 1.03178906 1.0460912  1.06167758 1.07791269\n",
            " 1.09460008 1.11162233 1.12892437 1.14650595]\n",
            "9 day output [[1.1644112]]\n",
            "10 day input [0.61126715 0.61919708 0.61093672 0.61903192 0.62943996 0.63340498\n",
            " 0.63439618 0.65669917 0.65273415 0.67768052 0.70758301 0.76441438\n",
            " 0.77118784 0.78027424 0.74673717 0.75433667 0.75004132 0.74045931\n",
            " 0.74987615 0.79035195 0.77630932 0.77746569 0.78027424 0.78242191\n",
            " 0.77647449 0.78176115 0.7941517  0.78589133 0.77630932 0.75813652\n",
            " 0.76474481 0.75433667 0.78539573 0.79596894 0.81001156 0.79382126\n",
            " 0.79547334 0.78110028 0.76804896 0.76705765 0.77383121 0.75433667\n",
            " 0.76507514 0.75896255 0.76160583 0.77118784 0.76474481 0.76970103\n",
            " 0.76821412 0.77812656 0.78060467 0.76540558 0.79018668 0.79332566\n",
            " 0.79729058 0.82190651 0.81381131 0.82058487 0.8356187  0.83016688\n",
            " 0.83099291 0.8361143  0.86238231 0.86386921 0.87328595 0.87559889\n",
            " 0.88798944 0.91954401 0.91590953 0.92483066 0.91640513 0.93011732\n",
            " 0.93903855 0.91376175 0.91888324 0.90252767 0.90269294 0.92697834\n",
            " 0.91425745 0.92631757 0.90021483 0.90071043 0.91690073 0.93143895\n",
            " 0.94581201 0.97108872 0.97918392 0.99735672 1.         0.98546177\n",
            " 1.02198768 1.03178906 1.0460912  1.06167758 1.07791269 1.09460008\n",
            " 1.11162233 1.12892437 1.14650595 1.16441119]\n",
            "10 day output [[1.1827091]]\n",
            "11 day input [0.61919708 0.61093672 0.61903192 0.62943996 0.63340498 0.63439618\n",
            " 0.65669917 0.65273415 0.67768052 0.70758301 0.76441438 0.77118784\n",
            " 0.78027424 0.74673717 0.75433667 0.75004132 0.74045931 0.74987615\n",
            " 0.79035195 0.77630932 0.77746569 0.78027424 0.78242191 0.77647449\n",
            " 0.78176115 0.7941517  0.78589133 0.77630932 0.75813652 0.76474481\n",
            " 0.75433667 0.78539573 0.79596894 0.81001156 0.79382126 0.79547334\n",
            " 0.78110028 0.76804896 0.76705765 0.77383121 0.75433667 0.76507514\n",
            " 0.75896255 0.76160583 0.77118784 0.76474481 0.76970103 0.76821412\n",
            " 0.77812656 0.78060467 0.76540558 0.79018668 0.79332566 0.79729058\n",
            " 0.82190651 0.81381131 0.82058487 0.8356187  0.83016688 0.83099291\n",
            " 0.8361143  0.86238231 0.86386921 0.87328595 0.87559889 0.88798944\n",
            " 0.91954401 0.91590953 0.92483066 0.91640513 0.93011732 0.93903855\n",
            " 0.91376175 0.91888324 0.90252767 0.90269294 0.92697834 0.91425745\n",
            " 0.92631757 0.90021483 0.90071043 0.91690073 0.93143895 0.94581201\n",
            " 0.97108872 0.97918392 0.99735672 1.         0.98546177 1.02198768\n",
            " 1.03178906 1.0460912  1.06167758 1.07791269 1.09460008 1.11162233\n",
            " 1.12892437 1.14650595 1.16441119 1.1827091 ]\n",
            "11 day output [[1.2014773]]\n",
            "12 day input [0.61093672 0.61903192 0.62943996 0.63340498 0.63439618 0.65669917\n",
            " 0.65273415 0.67768052 0.70758301 0.76441438 0.77118784 0.78027424\n",
            " 0.74673717 0.75433667 0.75004132 0.74045931 0.74987615 0.79035195\n",
            " 0.77630932 0.77746569 0.78027424 0.78242191 0.77647449 0.78176115\n",
            " 0.7941517  0.78589133 0.77630932 0.75813652 0.76474481 0.75433667\n",
            " 0.78539573 0.79596894 0.81001156 0.79382126 0.79547334 0.78110028\n",
            " 0.76804896 0.76705765 0.77383121 0.75433667 0.76507514 0.75896255\n",
            " 0.76160583 0.77118784 0.76474481 0.76970103 0.76821412 0.77812656\n",
            " 0.78060467 0.76540558 0.79018668 0.79332566 0.79729058 0.82190651\n",
            " 0.81381131 0.82058487 0.8356187  0.83016688 0.83099291 0.8361143\n",
            " 0.86238231 0.86386921 0.87328595 0.87559889 0.88798944 0.91954401\n",
            " 0.91590953 0.92483066 0.91640513 0.93011732 0.93903855 0.91376175\n",
            " 0.91888324 0.90252767 0.90269294 0.92697834 0.91425745 0.92631757\n",
            " 0.90021483 0.90071043 0.91690073 0.93143895 0.94581201 0.97108872\n",
            " 0.97918392 0.99735672 1.         0.98546177 1.02198768 1.03178906\n",
            " 1.0460912  1.06167758 1.07791269 1.09460008 1.11162233 1.12892437\n",
            " 1.14650595 1.16441119 1.1827091  1.20147729]\n",
            "12 day output [[1.2207874]]\n",
            "13 day input [0.61903192 0.62943996 0.63340498 0.63439618 0.65669917 0.65273415\n",
            " 0.67768052 0.70758301 0.76441438 0.77118784 0.78027424 0.74673717\n",
            " 0.75433667 0.75004132 0.74045931 0.74987615 0.79035195 0.77630932\n",
            " 0.77746569 0.78027424 0.78242191 0.77647449 0.78176115 0.7941517\n",
            " 0.78589133 0.77630932 0.75813652 0.76474481 0.75433667 0.78539573\n",
            " 0.79596894 0.81001156 0.79382126 0.79547334 0.78110028 0.76804896\n",
            " 0.76705765 0.77383121 0.75433667 0.76507514 0.75896255 0.76160583\n",
            " 0.77118784 0.76474481 0.76970103 0.76821412 0.77812656 0.78060467\n",
            " 0.76540558 0.79018668 0.79332566 0.79729058 0.82190651 0.81381131\n",
            " 0.82058487 0.8356187  0.83016688 0.83099291 0.8361143  0.86238231\n",
            " 0.86386921 0.87328595 0.87559889 0.88798944 0.91954401 0.91590953\n",
            " 0.92483066 0.91640513 0.93011732 0.93903855 0.91376175 0.91888324\n",
            " 0.90252767 0.90269294 0.92697834 0.91425745 0.92631757 0.90021483\n",
            " 0.90071043 0.91690073 0.93143895 0.94581201 0.97108872 0.97918392\n",
            " 0.99735672 1.         0.98546177 1.02198768 1.03178906 1.0460912\n",
            " 1.06167758 1.07791269 1.09460008 1.11162233 1.12892437 1.14650595\n",
            " 1.16441119 1.1827091  1.20147729 1.22078741]\n",
            "13 day output [[1.2406942]]\n",
            "14 day input [0.62943996 0.63340498 0.63439618 0.65669917 0.65273415 0.67768052\n",
            " 0.70758301 0.76441438 0.77118784 0.78027424 0.74673717 0.75433667\n",
            " 0.75004132 0.74045931 0.74987615 0.79035195 0.77630932 0.77746569\n",
            " 0.78027424 0.78242191 0.77647449 0.78176115 0.7941517  0.78589133\n",
            " 0.77630932 0.75813652 0.76474481 0.75433667 0.78539573 0.79596894\n",
            " 0.81001156 0.79382126 0.79547334 0.78110028 0.76804896 0.76705765\n",
            " 0.77383121 0.75433667 0.76507514 0.75896255 0.76160583 0.77118784\n",
            " 0.76474481 0.76970103 0.76821412 0.77812656 0.78060467 0.76540558\n",
            " 0.79018668 0.79332566 0.79729058 0.82190651 0.81381131 0.82058487\n",
            " 0.8356187  0.83016688 0.83099291 0.8361143  0.86238231 0.86386921\n",
            " 0.87328595 0.87559889 0.88798944 0.91954401 0.91590953 0.92483066\n",
            " 0.91640513 0.93011732 0.93903855 0.91376175 0.91888324 0.90252767\n",
            " 0.90269294 0.92697834 0.91425745 0.92631757 0.90021483 0.90071043\n",
            " 0.91690073 0.93143895 0.94581201 0.97108872 0.97918392 0.99735672\n",
            " 1.         0.98546177 1.02198768 1.03178906 1.0460912  1.06167758\n",
            " 1.07791269 1.09460008 1.11162233 1.12892437 1.14650595 1.16441119\n",
            " 1.1827091  1.20147729 1.22078741 1.24069417]\n",
            "14 day output [[1.2612305]]\n",
            "15 day input [0.63340498 0.63439618 0.65669917 0.65273415 0.67768052 0.70758301\n",
            " 0.76441438 0.77118784 0.78027424 0.74673717 0.75433667 0.75004132\n",
            " 0.74045931 0.74987615 0.79035195 0.77630932 0.77746569 0.78027424\n",
            " 0.78242191 0.77647449 0.78176115 0.7941517  0.78589133 0.77630932\n",
            " 0.75813652 0.76474481 0.75433667 0.78539573 0.79596894 0.81001156\n",
            " 0.79382126 0.79547334 0.78110028 0.76804896 0.76705765 0.77383121\n",
            " 0.75433667 0.76507514 0.75896255 0.76160583 0.77118784 0.76474481\n",
            " 0.76970103 0.76821412 0.77812656 0.78060467 0.76540558 0.79018668\n",
            " 0.79332566 0.79729058 0.82190651 0.81381131 0.82058487 0.8356187\n",
            " 0.83016688 0.83099291 0.8361143  0.86238231 0.86386921 0.87328595\n",
            " 0.87559889 0.88798944 0.91954401 0.91590953 0.92483066 0.91640513\n",
            " 0.93011732 0.93903855 0.91376175 0.91888324 0.90252767 0.90269294\n",
            " 0.92697834 0.91425745 0.92631757 0.90021483 0.90071043 0.91690073\n",
            " 0.93143895 0.94581201 0.97108872 0.97918392 0.99735672 1.\n",
            " 0.98546177 1.02198768 1.03178906 1.0460912  1.06167758 1.07791269\n",
            " 1.09460008 1.11162233 1.12892437 1.14650595 1.16441119 1.1827091\n",
            " 1.20147729 1.22078741 1.24069417 1.26123047]\n",
            "15 day output [[1.2824091]]\n",
            "16 day input [0.63439618 0.65669917 0.65273415 0.67768052 0.70758301 0.76441438\n",
            " 0.77118784 0.78027424 0.74673717 0.75433667 0.75004132 0.74045931\n",
            " 0.74987615 0.79035195 0.77630932 0.77746569 0.78027424 0.78242191\n",
            " 0.77647449 0.78176115 0.7941517  0.78589133 0.77630932 0.75813652\n",
            " 0.76474481 0.75433667 0.78539573 0.79596894 0.81001156 0.79382126\n",
            " 0.79547334 0.78110028 0.76804896 0.76705765 0.77383121 0.75433667\n",
            " 0.76507514 0.75896255 0.76160583 0.77118784 0.76474481 0.76970103\n",
            " 0.76821412 0.77812656 0.78060467 0.76540558 0.79018668 0.79332566\n",
            " 0.79729058 0.82190651 0.81381131 0.82058487 0.8356187  0.83016688\n",
            " 0.83099291 0.8361143  0.86238231 0.86386921 0.87328595 0.87559889\n",
            " 0.88798944 0.91954401 0.91590953 0.92483066 0.91640513 0.93011732\n",
            " 0.93903855 0.91376175 0.91888324 0.90252767 0.90269294 0.92697834\n",
            " 0.91425745 0.92631757 0.90021483 0.90071043 0.91690073 0.93143895\n",
            " 0.94581201 0.97108872 0.97918392 0.99735672 1.         0.98546177\n",
            " 1.02198768 1.03178906 1.0460912  1.06167758 1.07791269 1.09460008\n",
            " 1.11162233 1.12892437 1.14650595 1.16441119 1.1827091  1.20147729\n",
            " 1.22078741 1.24069417 1.26123047 1.28240907]\n",
            "16 day output [[1.3042227]]\n",
            "17 day input [0.65669917 0.65273415 0.67768052 0.70758301 0.76441438 0.77118784\n",
            " 0.78027424 0.74673717 0.75433667 0.75004132 0.74045931 0.74987615\n",
            " 0.79035195 0.77630932 0.77746569 0.78027424 0.78242191 0.77647449\n",
            " 0.78176115 0.7941517  0.78589133 0.77630932 0.75813652 0.76474481\n",
            " 0.75433667 0.78539573 0.79596894 0.81001156 0.79382126 0.79547334\n",
            " 0.78110028 0.76804896 0.76705765 0.77383121 0.75433667 0.76507514\n",
            " 0.75896255 0.76160583 0.77118784 0.76474481 0.76970103 0.76821412\n",
            " 0.77812656 0.78060467 0.76540558 0.79018668 0.79332566 0.79729058\n",
            " 0.82190651 0.81381131 0.82058487 0.8356187  0.83016688 0.83099291\n",
            " 0.8361143  0.86238231 0.86386921 0.87328595 0.87559889 0.88798944\n",
            " 0.91954401 0.91590953 0.92483066 0.91640513 0.93011732 0.93903855\n",
            " 0.91376175 0.91888324 0.90252767 0.90269294 0.92697834 0.91425745\n",
            " 0.92631757 0.90021483 0.90071043 0.91690073 0.93143895 0.94581201\n",
            " 0.97108872 0.97918392 0.99735672 1.         0.98546177 1.02198768\n",
            " 1.03178906 1.0460912  1.06167758 1.07791269 1.09460008 1.11162233\n",
            " 1.12892437 1.14650595 1.16441119 1.1827091  1.20147729 1.22078741\n",
            " 1.24069417 1.26123047 1.28240907 1.3042227 ]\n",
            "17 day output [[1.3266538]]\n",
            "18 day input [0.65273415 0.67768052 0.70758301 0.76441438 0.77118784 0.78027424\n",
            " 0.74673717 0.75433667 0.75004132 0.74045931 0.74987615 0.79035195\n",
            " 0.77630932 0.77746569 0.78027424 0.78242191 0.77647449 0.78176115\n",
            " 0.7941517  0.78589133 0.77630932 0.75813652 0.76474481 0.75433667\n",
            " 0.78539573 0.79596894 0.81001156 0.79382126 0.79547334 0.78110028\n",
            " 0.76804896 0.76705765 0.77383121 0.75433667 0.76507514 0.75896255\n",
            " 0.76160583 0.77118784 0.76474481 0.76970103 0.76821412 0.77812656\n",
            " 0.78060467 0.76540558 0.79018668 0.79332566 0.79729058 0.82190651\n",
            " 0.81381131 0.82058487 0.8356187  0.83016688 0.83099291 0.8361143\n",
            " 0.86238231 0.86386921 0.87328595 0.87559889 0.88798944 0.91954401\n",
            " 0.91590953 0.92483066 0.91640513 0.93011732 0.93903855 0.91376175\n",
            " 0.91888324 0.90252767 0.90269294 0.92697834 0.91425745 0.92631757\n",
            " 0.90021483 0.90071043 0.91690073 0.93143895 0.94581201 0.97108872\n",
            " 0.97918392 0.99735672 1.         0.98546177 1.02198768 1.03178906\n",
            " 1.0460912  1.06167758 1.07791269 1.09460008 1.11162233 1.12892437\n",
            " 1.14650595 1.16441119 1.1827091  1.20147729 1.22078741 1.24069417\n",
            " 1.26123047 1.28240907 1.3042227  1.32665384]\n",
            "18 day output [[1.3496782]]\n",
            "19 day input [0.67768052 0.70758301 0.76441438 0.77118784 0.78027424 0.74673717\n",
            " 0.75433667 0.75004132 0.74045931 0.74987615 0.79035195 0.77630932\n",
            " 0.77746569 0.78027424 0.78242191 0.77647449 0.78176115 0.7941517\n",
            " 0.78589133 0.77630932 0.75813652 0.76474481 0.75433667 0.78539573\n",
            " 0.79596894 0.81001156 0.79382126 0.79547334 0.78110028 0.76804896\n",
            " 0.76705765 0.77383121 0.75433667 0.76507514 0.75896255 0.76160583\n",
            " 0.77118784 0.76474481 0.76970103 0.76821412 0.77812656 0.78060467\n",
            " 0.76540558 0.79018668 0.79332566 0.79729058 0.82190651 0.81381131\n",
            " 0.82058487 0.8356187  0.83016688 0.83099291 0.8361143  0.86238231\n",
            " 0.86386921 0.87328595 0.87559889 0.88798944 0.91954401 0.91590953\n",
            " 0.92483066 0.91640513 0.93011732 0.93903855 0.91376175 0.91888324\n",
            " 0.90252767 0.90269294 0.92697834 0.91425745 0.92631757 0.90021483\n",
            " 0.90071043 0.91690073 0.93143895 0.94581201 0.97108872 0.97918392\n",
            " 0.99735672 1.         0.98546177 1.02198768 1.03178906 1.0460912\n",
            " 1.06167758 1.07791269 1.09460008 1.11162233 1.12892437 1.14650595\n",
            " 1.16441119 1.1827091  1.20147729 1.22078741 1.24069417 1.26123047\n",
            " 1.28240907 1.3042227  1.32665384 1.34967816]\n",
            "19 day output [[1.3732715]]\n",
            "20 day input [0.70758301 0.76441438 0.77118784 0.78027424 0.74673717 0.75433667\n",
            " 0.75004132 0.74045931 0.74987615 0.79035195 0.77630932 0.77746569\n",
            " 0.78027424 0.78242191 0.77647449 0.78176115 0.7941517  0.78589133\n",
            " 0.77630932 0.75813652 0.76474481 0.75433667 0.78539573 0.79596894\n",
            " 0.81001156 0.79382126 0.79547334 0.78110028 0.76804896 0.76705765\n",
            " 0.77383121 0.75433667 0.76507514 0.75896255 0.76160583 0.77118784\n",
            " 0.76474481 0.76970103 0.76821412 0.77812656 0.78060467 0.76540558\n",
            " 0.79018668 0.79332566 0.79729058 0.82190651 0.81381131 0.82058487\n",
            " 0.8356187  0.83016688 0.83099291 0.8361143  0.86238231 0.86386921\n",
            " 0.87328595 0.87559889 0.88798944 0.91954401 0.91590953 0.92483066\n",
            " 0.91640513 0.93011732 0.93903855 0.91376175 0.91888324 0.90252767\n",
            " 0.90269294 0.92697834 0.91425745 0.92631757 0.90021483 0.90071043\n",
            " 0.91690073 0.93143895 0.94581201 0.97108872 0.97918392 0.99735672\n",
            " 1.         0.98546177 1.02198768 1.03178906 1.0460912  1.06167758\n",
            " 1.07791269 1.09460008 1.11162233 1.12892437 1.14650595 1.16441119\n",
            " 1.1827091  1.20147729 1.22078741 1.24069417 1.26123047 1.28240907\n",
            " 1.3042227  1.32665384 1.34967816 1.37327147]\n",
            "20 day output [[1.3974135]]\n",
            "21 day input [0.76441438 0.77118784 0.78027424 0.74673717 0.75433667 0.75004132\n",
            " 0.74045931 0.74987615 0.79035195 0.77630932 0.77746569 0.78027424\n",
            " 0.78242191 0.77647449 0.78176115 0.7941517  0.78589133 0.77630932\n",
            " 0.75813652 0.76474481 0.75433667 0.78539573 0.79596894 0.81001156\n",
            " 0.79382126 0.79547334 0.78110028 0.76804896 0.76705765 0.77383121\n",
            " 0.75433667 0.76507514 0.75896255 0.76160583 0.77118784 0.76474481\n",
            " 0.76970103 0.76821412 0.77812656 0.78060467 0.76540558 0.79018668\n",
            " 0.79332566 0.79729058 0.82190651 0.81381131 0.82058487 0.8356187\n",
            " 0.83016688 0.83099291 0.8361143  0.86238231 0.86386921 0.87328595\n",
            " 0.87559889 0.88798944 0.91954401 0.91590953 0.92483066 0.91640513\n",
            " 0.93011732 0.93903855 0.91376175 0.91888324 0.90252767 0.90269294\n",
            " 0.92697834 0.91425745 0.92631757 0.90021483 0.90071043 0.91690073\n",
            " 0.93143895 0.94581201 0.97108872 0.97918392 0.99735672 1.\n",
            " 0.98546177 1.02198768 1.03178906 1.0460912  1.06167758 1.07791269\n",
            " 1.09460008 1.11162233 1.12892437 1.14650595 1.16441119 1.1827091\n",
            " 1.20147729 1.22078741 1.24069417 1.26123047 1.28240907 1.3042227\n",
            " 1.32665384 1.34967816 1.37327147 1.39741349]\n",
            "21 day output [[1.4220887]]\n",
            "22 day input [0.77118784 0.78027424 0.74673717 0.75433667 0.75004132 0.74045931\n",
            " 0.74987615 0.79035195 0.77630932 0.77746569 0.78027424 0.78242191\n",
            " 0.77647449 0.78176115 0.7941517  0.78589133 0.77630932 0.75813652\n",
            " 0.76474481 0.75433667 0.78539573 0.79596894 0.81001156 0.79382126\n",
            " 0.79547334 0.78110028 0.76804896 0.76705765 0.77383121 0.75433667\n",
            " 0.76507514 0.75896255 0.76160583 0.77118784 0.76474481 0.76970103\n",
            " 0.76821412 0.77812656 0.78060467 0.76540558 0.79018668 0.79332566\n",
            " 0.79729058 0.82190651 0.81381131 0.82058487 0.8356187  0.83016688\n",
            " 0.83099291 0.8361143  0.86238231 0.86386921 0.87328595 0.87559889\n",
            " 0.88798944 0.91954401 0.91590953 0.92483066 0.91640513 0.93011732\n",
            " 0.93903855 0.91376175 0.91888324 0.90252767 0.90269294 0.92697834\n",
            " 0.91425745 0.92631757 0.90021483 0.90071043 0.91690073 0.93143895\n",
            " 0.94581201 0.97108872 0.97918392 0.99735672 1.         0.98546177\n",
            " 1.02198768 1.03178906 1.0460912  1.06167758 1.07791269 1.09460008\n",
            " 1.11162233 1.12892437 1.14650595 1.16441119 1.1827091  1.20147729\n",
            " 1.22078741 1.24069417 1.26123047 1.28240907 1.3042227  1.32665384\n",
            " 1.34967816 1.37327147 1.39741349 1.42208874]\n",
            "22 day output [[1.4472879]]\n",
            "23 day input [0.78027424 0.74673717 0.75433667 0.75004132 0.74045931 0.74987615\n",
            " 0.79035195 0.77630932 0.77746569 0.78027424 0.78242191 0.77647449\n",
            " 0.78176115 0.7941517  0.78589133 0.77630932 0.75813652 0.76474481\n",
            " 0.75433667 0.78539573 0.79596894 0.81001156 0.79382126 0.79547334\n",
            " 0.78110028 0.76804896 0.76705765 0.77383121 0.75433667 0.76507514\n",
            " 0.75896255 0.76160583 0.77118784 0.76474481 0.76970103 0.76821412\n",
            " 0.77812656 0.78060467 0.76540558 0.79018668 0.79332566 0.79729058\n",
            " 0.82190651 0.81381131 0.82058487 0.8356187  0.83016688 0.83099291\n",
            " 0.8361143  0.86238231 0.86386921 0.87328595 0.87559889 0.88798944\n",
            " 0.91954401 0.91590953 0.92483066 0.91640513 0.93011732 0.93903855\n",
            " 0.91376175 0.91888324 0.90252767 0.90269294 0.92697834 0.91425745\n",
            " 0.92631757 0.90021483 0.90071043 0.91690073 0.93143895 0.94581201\n",
            " 0.97108872 0.97918392 0.99735672 1.         0.98546177 1.02198768\n",
            " 1.03178906 1.0460912  1.06167758 1.07791269 1.09460008 1.11162233\n",
            " 1.12892437 1.14650595 1.16441119 1.1827091  1.20147729 1.22078741\n",
            " 1.24069417 1.26123047 1.28240907 1.3042227  1.32665384 1.34967816\n",
            " 1.37327147 1.39741349 1.42208874 1.44728792]\n",
            "23 day output [[1.4730035]]\n",
            "24 day input [0.74673717 0.75433667 0.75004132 0.74045931 0.74987615 0.79035195\n",
            " 0.77630932 0.77746569 0.78027424 0.78242191 0.77647449 0.78176115\n",
            " 0.7941517  0.78589133 0.77630932 0.75813652 0.76474481 0.75433667\n",
            " 0.78539573 0.79596894 0.81001156 0.79382126 0.79547334 0.78110028\n",
            " 0.76804896 0.76705765 0.77383121 0.75433667 0.76507514 0.75896255\n",
            " 0.76160583 0.77118784 0.76474481 0.76970103 0.76821412 0.77812656\n",
            " 0.78060467 0.76540558 0.79018668 0.79332566 0.79729058 0.82190651\n",
            " 0.81381131 0.82058487 0.8356187  0.83016688 0.83099291 0.8361143\n",
            " 0.86238231 0.86386921 0.87328595 0.87559889 0.88798944 0.91954401\n",
            " 0.91590953 0.92483066 0.91640513 0.93011732 0.93903855 0.91376175\n",
            " 0.91888324 0.90252767 0.90269294 0.92697834 0.91425745 0.92631757\n",
            " 0.90021483 0.90071043 0.91690073 0.93143895 0.94581201 0.97108872\n",
            " 0.97918392 0.99735672 1.         0.98546177 1.02198768 1.03178906\n",
            " 1.0460912  1.06167758 1.07791269 1.09460008 1.11162233 1.12892437\n",
            " 1.14650595 1.16441119 1.1827091  1.20147729 1.22078741 1.24069417\n",
            " 1.26123047 1.28240907 1.3042227  1.32665384 1.34967816 1.37327147\n",
            " 1.39741349 1.42208874 1.44728792 1.47300351]\n",
            "24 day output [[1.4992322]]\n",
            "25 day input [0.75433667 0.75004132 0.74045931 0.74987615 0.79035195 0.77630932\n",
            " 0.77746569 0.78027424 0.78242191 0.77647449 0.78176115 0.7941517\n",
            " 0.78589133 0.77630932 0.75813652 0.76474481 0.75433667 0.78539573\n",
            " 0.79596894 0.81001156 0.79382126 0.79547334 0.78110028 0.76804896\n",
            " 0.76705765 0.77383121 0.75433667 0.76507514 0.75896255 0.76160583\n",
            " 0.77118784 0.76474481 0.76970103 0.76821412 0.77812656 0.78060467\n",
            " 0.76540558 0.79018668 0.79332566 0.79729058 0.82190651 0.81381131\n",
            " 0.82058487 0.8356187  0.83016688 0.83099291 0.8361143  0.86238231\n",
            " 0.86386921 0.87328595 0.87559889 0.88798944 0.91954401 0.91590953\n",
            " 0.92483066 0.91640513 0.93011732 0.93903855 0.91376175 0.91888324\n",
            " 0.90252767 0.90269294 0.92697834 0.91425745 0.92631757 0.90021483\n",
            " 0.90071043 0.91690073 0.93143895 0.94581201 0.97108872 0.97918392\n",
            " 0.99735672 1.         0.98546177 1.02198768 1.03178906 1.0460912\n",
            " 1.06167758 1.07791269 1.09460008 1.11162233 1.12892437 1.14650595\n",
            " 1.16441119 1.1827091  1.20147729 1.22078741 1.24069417 1.26123047\n",
            " 1.28240907 1.3042227  1.32665384 1.34967816 1.37327147 1.39741349\n",
            " 1.42208874 1.44728792 1.47300351 1.49923217]\n",
            "25 day output [[1.5259672]]\n",
            "26 day input [0.75004132 0.74045931 0.74987615 0.79035195 0.77630932 0.77746569\n",
            " 0.78027424 0.78242191 0.77647449 0.78176115 0.7941517  0.78589133\n",
            " 0.77630932 0.75813652 0.76474481 0.75433667 0.78539573 0.79596894\n",
            " 0.81001156 0.79382126 0.79547334 0.78110028 0.76804896 0.76705765\n",
            " 0.77383121 0.75433667 0.76507514 0.75896255 0.76160583 0.77118784\n",
            " 0.76474481 0.76970103 0.76821412 0.77812656 0.78060467 0.76540558\n",
            " 0.79018668 0.79332566 0.79729058 0.82190651 0.81381131 0.82058487\n",
            " 0.8356187  0.83016688 0.83099291 0.8361143  0.86238231 0.86386921\n",
            " 0.87328595 0.87559889 0.88798944 0.91954401 0.91590953 0.92483066\n",
            " 0.91640513 0.93011732 0.93903855 0.91376175 0.91888324 0.90252767\n",
            " 0.90269294 0.92697834 0.91425745 0.92631757 0.90021483 0.90071043\n",
            " 0.91690073 0.93143895 0.94581201 0.97108872 0.97918392 0.99735672\n",
            " 1.         0.98546177 1.02198768 1.03178906 1.0460912  1.06167758\n",
            " 1.07791269 1.09460008 1.11162233 1.12892437 1.14650595 1.16441119\n",
            " 1.1827091  1.20147729 1.22078741 1.24069417 1.26123047 1.28240907\n",
            " 1.3042227  1.32665384 1.34967816 1.37327147 1.39741349 1.42208874\n",
            " 1.44728792 1.47300351 1.49923217 1.52596724]\n",
            "26 day output [[1.5532012]]\n",
            "27 day input [0.74045931 0.74987615 0.79035195 0.77630932 0.77746569 0.78027424\n",
            " 0.78242191 0.77647449 0.78176115 0.7941517  0.78589133 0.77630932\n",
            " 0.75813652 0.76474481 0.75433667 0.78539573 0.79596894 0.81001156\n",
            " 0.79382126 0.79547334 0.78110028 0.76804896 0.76705765 0.77383121\n",
            " 0.75433667 0.76507514 0.75896255 0.76160583 0.77118784 0.76474481\n",
            " 0.76970103 0.76821412 0.77812656 0.78060467 0.76540558 0.79018668\n",
            " 0.79332566 0.79729058 0.82190651 0.81381131 0.82058487 0.8356187\n",
            " 0.83016688 0.83099291 0.8361143  0.86238231 0.86386921 0.87328595\n",
            " 0.87559889 0.88798944 0.91954401 0.91590953 0.92483066 0.91640513\n",
            " 0.93011732 0.93903855 0.91376175 0.91888324 0.90252767 0.90269294\n",
            " 0.92697834 0.91425745 0.92631757 0.90021483 0.90071043 0.91690073\n",
            " 0.93143895 0.94581201 0.97108872 0.97918392 0.99735672 1.\n",
            " 0.98546177 1.02198768 1.03178906 1.0460912  1.06167758 1.07791269\n",
            " 1.09460008 1.11162233 1.12892437 1.14650595 1.16441119 1.1827091\n",
            " 1.20147729 1.22078741 1.24069417 1.26123047 1.28240907 1.3042227\n",
            " 1.32665384 1.34967816 1.37327147 1.39741349 1.42208874 1.44728792\n",
            " 1.47300351 1.49923217 1.52596724 1.5532012 ]\n",
            "27 day output [[1.5809213]]\n",
            "28 day input [0.74987615 0.79035195 0.77630932 0.77746569 0.78027424 0.78242191\n",
            " 0.77647449 0.78176115 0.7941517  0.78589133 0.77630932 0.75813652\n",
            " 0.76474481 0.75433667 0.78539573 0.79596894 0.81001156 0.79382126\n",
            " 0.79547334 0.78110028 0.76804896 0.76705765 0.77383121 0.75433667\n",
            " 0.76507514 0.75896255 0.76160583 0.77118784 0.76474481 0.76970103\n",
            " 0.76821412 0.77812656 0.78060467 0.76540558 0.79018668 0.79332566\n",
            " 0.79729058 0.82190651 0.81381131 0.82058487 0.8356187  0.83016688\n",
            " 0.83099291 0.8361143  0.86238231 0.86386921 0.87328595 0.87559889\n",
            " 0.88798944 0.91954401 0.91590953 0.92483066 0.91640513 0.93011732\n",
            " 0.93903855 0.91376175 0.91888324 0.90252767 0.90269294 0.92697834\n",
            " 0.91425745 0.92631757 0.90021483 0.90071043 0.91690073 0.93143895\n",
            " 0.94581201 0.97108872 0.97918392 0.99735672 1.         0.98546177\n",
            " 1.02198768 1.03178906 1.0460912  1.06167758 1.07791269 1.09460008\n",
            " 1.11162233 1.12892437 1.14650595 1.16441119 1.1827091  1.20147729\n",
            " 1.22078741 1.24069417 1.26123047 1.28240907 1.3042227  1.32665384\n",
            " 1.34967816 1.37327147 1.39741349 1.42208874 1.44728792 1.47300351\n",
            " 1.49923217 1.52596724 1.5532012  1.58092129]\n",
            "28 day output [[1.6091098]]\n",
            "29 day input [0.79035195 0.77630932 0.77746569 0.78027424 0.78242191 0.77647449\n",
            " 0.78176115 0.7941517  0.78589133 0.77630932 0.75813652 0.76474481\n",
            " 0.75433667 0.78539573 0.79596894 0.81001156 0.79382126 0.79547334\n",
            " 0.78110028 0.76804896 0.76705765 0.77383121 0.75433667 0.76507514\n",
            " 0.75896255 0.76160583 0.77118784 0.76474481 0.76970103 0.76821412\n",
            " 0.77812656 0.78060467 0.76540558 0.79018668 0.79332566 0.79729058\n",
            " 0.82190651 0.81381131 0.82058487 0.8356187  0.83016688 0.83099291\n",
            " 0.8361143  0.86238231 0.86386921 0.87328595 0.87559889 0.88798944\n",
            " 0.91954401 0.91590953 0.92483066 0.91640513 0.93011732 0.93903855\n",
            " 0.91376175 0.91888324 0.90252767 0.90269294 0.92697834 0.91425745\n",
            " 0.92631757 0.90021483 0.90071043 0.91690073 0.93143895 0.94581201\n",
            " 0.97108872 0.97918392 0.99735672 1.         0.98546177 1.02198768\n",
            " 1.03178906 1.0460912  1.06167758 1.07791269 1.09460008 1.11162233\n",
            " 1.12892437 1.14650595 1.16441119 1.1827091  1.20147729 1.22078741\n",
            " 1.24069417 1.26123047 1.28240907 1.3042227  1.32665384 1.34967816\n",
            " 1.37327147 1.39741349 1.42208874 1.44728792 1.47300351 1.49923217\n",
            " 1.52596724 1.5532012  1.58092129 1.60910976]\n",
            "29 day output [[1.6377444]]\n",
            "[[1.0219876766204834], [1.0317890644073486], [1.0460911989212036], [1.0616775751113892], [1.07791268825531], [1.0946000814437866], [1.1116223335266113], [1.1289243698120117], [1.1465059518814087], [1.164411187171936], [1.1827090978622437], [1.201477289199829], [1.2207874059677124], [1.2406941652297974], [1.26123046875], [1.2824090719223022], [1.3042227029800415], [1.3266538381576538], [1.3496781587600708], [1.3732714653015137], [1.3974134922027588], [1.4220887422561646], [1.447287917137146], [1.4730035066604614], [1.4992321729660034], [1.5259672403335571], [1.5532011985778809], [1.5809212923049927], [1.6091097593307495], [1.637744426727295]]\n"
          ]
        }
      ]
    },
    {
      "cell_type": "code",
      "source": [
        "day_new=np.arange(1,101)\n",
        "day_pred=np.arange(101,131)"
      ],
      "metadata": {
        "id": "l6EUGUyVbz5V"
      },
      "execution_count": null,
      "outputs": []
    },
    {
      "cell_type": "code",
      "source": [
        "import matplotlib.pyplot as plt"
      ],
      "metadata": {
        "id": "vuBCgLTCb5YO"
      },
      "execution_count": null,
      "outputs": []
    },
    {
      "cell_type": "code",
      "source": [
        "plt.plot(day_new,scaler.inverse_transform(data1[1134:]))\n",
        "plt.plot(day_pred,scaler.inverse_transform(lst_output))"
      ],
      "metadata": {
        "colab": {
          "base_uri": "https://localhost:8080/",
          "height": 448
        },
        "id": "-fPxYMlCb7Lw",
        "outputId": "660652ab-0515-4e42-85a5-8c895ae6f4b3"
      },
      "execution_count": null,
      "outputs": [
        {
          "output_type": "execute_result",
          "data": {
            "text/plain": [
              "[<matplotlib.lines.Line2D at 0x792996a378b0>]"
            ]
          },
          "metadata": {},
          "execution_count": 130
        },
        {
          "output_type": "display_data",
          "data": {
            "text/plain": [
              "<Figure size 640x480 with 1 Axes>"
            ],
            "image/png": "[encoded data removed]"
          },
          "metadata": {}
        }
      ]
    },
    {
      "cell_type": "code",
      "source": [],
      "metadata": {
        "id": "oIxb2ChEb__I"
      },
      "execution_count": null,
      "outputs": []
    }
  ]
}